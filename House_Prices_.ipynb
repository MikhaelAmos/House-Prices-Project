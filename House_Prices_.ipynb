{
  "cells": [
    {
      "cell_type": "markdown",
      "metadata": {
        "id": "MHlt4oI2g4cP"
      },
      "source": [
        "# Import Libraries"
      ]
    },
    {
      "cell_type": "code",
      "execution_count": 1128,
      "metadata": {
        "id": "TgsscJz_-Sax"
      },
      "outputs": [],
      "source": [
        "%config Completer.use_jedi = False\n",
        "import numpy as np\n",
        "import pandas as pd\n",
        "import matplotlib.pyplot as plt\n",
        "import glob\n",
        "import seaborn as sns\n",
        "from sklearn.model_selection import train_test_split, cross_val_score, RandomizedSearchCV,GridSearchCV\n",
        "from sklearn.preprocessing import StandardScaler\n",
        "from sklearn.ensemble import RandomForestRegressor,RandomForestClassifier \n",
        "from xgboost import XGBRegressor\n",
        "import warnings\n",
        "warnings.filterwarnings('ignore')\n",
        "from sklearn.metrics import mean_squared_error, mean_absolute_error, r2_score\n",
        "from scipy.stats import uniform\n",
        "from sklearn.linear_model import Lasso, ElasticNet, Ridge, LinearRegression, LogisticRegression\n",
        "from sklearn.tree import DecisionTreeRegressor, DecisionTreeClassifier\n",
        "from sklearn.svm import SVR"
      ]
    },
    {
      "cell_type": "code",
      "execution_count": 1129,
      "metadata": {
        "colab": {
          "base_uri": "https://localhost:8080/",
          "height": 236
        },
        "id": "hgDLZAAm_e-6",
        "outputId": "64aea089-05a3-42e7-b101-5e672f32ea58"
      },
      "outputs": [
        {
          "data": {
            "text/html": [
              "<div>\n",
              "<style scoped>\n",
              "    .dataframe tbody tr th:only-of-type {\n",
              "        vertical-align: middle;\n",
              "    }\n",
              "\n",
              "    .dataframe tbody tr th {\n",
              "        vertical-align: top;\n",
              "    }\n",
              "\n",
              "    .dataframe thead th {\n",
              "        text-align: right;\n",
              "    }\n",
              "</style>\n",
              "<table border=\"1\" class=\"dataframe\">\n",
              "  <thead>\n",
              "    <tr style=\"text-align: right;\">\n",
              "      <th></th>\n",
              "      <th>Id</th>\n",
              "      <th>MSSubClass</th>\n",
              "      <th>MSZoning</th>\n",
              "      <th>LotFrontage</th>\n",
              "      <th>LotArea</th>\n",
              "      <th>Street</th>\n",
              "      <th>Alley</th>\n",
              "      <th>LotShape</th>\n",
              "      <th>LandContour</th>\n",
              "      <th>Utilities</th>\n",
              "      <th>...</th>\n",
              "      <th>PoolArea</th>\n",
              "      <th>PoolQC</th>\n",
              "      <th>Fence</th>\n",
              "      <th>MiscFeature</th>\n",
              "      <th>MiscVal</th>\n",
              "      <th>MoSold</th>\n",
              "      <th>YrSold</th>\n",
              "      <th>SaleType</th>\n",
              "      <th>SaleCondition</th>\n",
              "      <th>SalePrice</th>\n",
              "    </tr>\n",
              "  </thead>\n",
              "  <tbody>\n",
              "    <tr>\n",
              "      <th>0</th>\n",
              "      <td>1</td>\n",
              "      <td>60</td>\n",
              "      <td>RL</td>\n",
              "      <td>65.0</td>\n",
              "      <td>8450</td>\n",
              "      <td>Pave</td>\n",
              "      <td>NaN</td>\n",
              "      <td>Reg</td>\n",
              "      <td>Lvl</td>\n",
              "      <td>AllPub</td>\n",
              "      <td>...</td>\n",
              "      <td>0</td>\n",
              "      <td>NaN</td>\n",
              "      <td>NaN</td>\n",
              "      <td>NaN</td>\n",
              "      <td>0</td>\n",
              "      <td>2</td>\n",
              "      <td>2008</td>\n",
              "      <td>WD</td>\n",
              "      <td>Normal</td>\n",
              "      <td>208500</td>\n",
              "    </tr>\n",
              "    <tr>\n",
              "      <th>1</th>\n",
              "      <td>2</td>\n",
              "      <td>20</td>\n",
              "      <td>RL</td>\n",
              "      <td>80.0</td>\n",
              "      <td>9600</td>\n",
              "      <td>Pave</td>\n",
              "      <td>NaN</td>\n",
              "      <td>Reg</td>\n",
              "      <td>Lvl</td>\n",
              "      <td>AllPub</td>\n",
              "      <td>...</td>\n",
              "      <td>0</td>\n",
              "      <td>NaN</td>\n",
              "      <td>NaN</td>\n",
              "      <td>NaN</td>\n",
              "      <td>0</td>\n",
              "      <td>5</td>\n",
              "      <td>2007</td>\n",
              "      <td>WD</td>\n",
              "      <td>Normal</td>\n",
              "      <td>181500</td>\n",
              "    </tr>\n",
              "    <tr>\n",
              "      <th>2</th>\n",
              "      <td>3</td>\n",
              "      <td>60</td>\n",
              "      <td>RL</td>\n",
              "      <td>68.0</td>\n",
              "      <td>11250</td>\n",
              "      <td>Pave</td>\n",
              "      <td>NaN</td>\n",
              "      <td>IR1</td>\n",
              "      <td>Lvl</td>\n",
              "      <td>AllPub</td>\n",
              "      <td>...</td>\n",
              "      <td>0</td>\n",
              "      <td>NaN</td>\n",
              "      <td>NaN</td>\n",
              "      <td>NaN</td>\n",
              "      <td>0</td>\n",
              "      <td>9</td>\n",
              "      <td>2008</td>\n",
              "      <td>WD</td>\n",
              "      <td>Normal</td>\n",
              "      <td>223500</td>\n",
              "    </tr>\n",
              "    <tr>\n",
              "      <th>3</th>\n",
              "      <td>4</td>\n",
              "      <td>70</td>\n",
              "      <td>RL</td>\n",
              "      <td>60.0</td>\n",
              "      <td>9550</td>\n",
              "      <td>Pave</td>\n",
              "      <td>NaN</td>\n",
              "      <td>IR1</td>\n",
              "      <td>Lvl</td>\n",
              "      <td>AllPub</td>\n",
              "      <td>...</td>\n",
              "      <td>0</td>\n",
              "      <td>NaN</td>\n",
              "      <td>NaN</td>\n",
              "      <td>NaN</td>\n",
              "      <td>0</td>\n",
              "      <td>2</td>\n",
              "      <td>2006</td>\n",
              "      <td>WD</td>\n",
              "      <td>Abnorml</td>\n",
              "      <td>140000</td>\n",
              "    </tr>\n",
              "    <tr>\n",
              "      <th>4</th>\n",
              "      <td>5</td>\n",
              "      <td>60</td>\n",
              "      <td>RL</td>\n",
              "      <td>84.0</td>\n",
              "      <td>14260</td>\n",
              "      <td>Pave</td>\n",
              "      <td>NaN</td>\n",
              "      <td>IR1</td>\n",
              "      <td>Lvl</td>\n",
              "      <td>AllPub</td>\n",
              "      <td>...</td>\n",
              "      <td>0</td>\n",
              "      <td>NaN</td>\n",
              "      <td>NaN</td>\n",
              "      <td>NaN</td>\n",
              "      <td>0</td>\n",
              "      <td>12</td>\n",
              "      <td>2008</td>\n",
              "      <td>WD</td>\n",
              "      <td>Normal</td>\n",
              "      <td>250000</td>\n",
              "    </tr>\n",
              "  </tbody>\n",
              "</table>\n",
              "<p>5 rows × 81 columns</p>\n",
              "</div>"
            ],
            "text/plain": [
              "   Id  MSSubClass MSZoning  LotFrontage  LotArea Street Alley LotShape  \\\n",
              "0   1          60       RL         65.0     8450   Pave   NaN      Reg   \n",
              "1   2          20       RL         80.0     9600   Pave   NaN      Reg   \n",
              "2   3          60       RL         68.0    11250   Pave   NaN      IR1   \n",
              "3   4          70       RL         60.0     9550   Pave   NaN      IR1   \n",
              "4   5          60       RL         84.0    14260   Pave   NaN      IR1   \n",
              "\n",
              "  LandContour Utilities  ... PoolArea PoolQC Fence MiscFeature MiscVal MoSold  \\\n",
              "0         Lvl    AllPub  ...        0    NaN   NaN         NaN       0      2   \n",
              "1         Lvl    AllPub  ...        0    NaN   NaN         NaN       0      5   \n",
              "2         Lvl    AllPub  ...        0    NaN   NaN         NaN       0      9   \n",
              "3         Lvl    AllPub  ...        0    NaN   NaN         NaN       0      2   \n",
              "4         Lvl    AllPub  ...        0    NaN   NaN         NaN       0     12   \n",
              "\n",
              "  YrSold  SaleType  SaleCondition  SalePrice  \n",
              "0   2008        WD         Normal     208500  \n",
              "1   2007        WD         Normal     181500  \n",
              "2   2008        WD         Normal     223500  \n",
              "3   2006        WD        Abnorml     140000  \n",
              "4   2008        WD         Normal     250000  \n",
              "\n",
              "[5 rows x 81 columns]"
            ]
          },
          "execution_count": 1129,
          "metadata": {},
          "output_type": "execute_result"
        }
      ],
      "source": [
        "df_train = pd.read_csv('https://raw.githubusercontent.com/MikhaelAmos/House-Prices-Project/main/train.csv')\n",
        "df_train.head()"
      ]
    },
    {
      "cell_type": "code",
      "execution_count": 1130,
      "metadata": {
        "colab": {
          "base_uri": "https://localhost:8080/"
        },
        "id": "mjZKlpxBjRhD",
        "outputId": "73be3ca5-ee54-4f37-e788-a50168f1b654"
      },
      "outputs": [
        {
          "data": {
            "text/plain": [
              "(1460, 81)"
            ]
          },
          "execution_count": 1130,
          "metadata": {},
          "output_type": "execute_result"
        }
      ],
      "source": [
        "df_train.shape"
      ]
    },
    {
      "cell_type": "code",
      "execution_count": 1131,
      "metadata": {
        "colab": {
          "base_uri": "https://localhost:8080/"
        },
        "id": "uo9D52L2KEI7",
        "outputId": "807da0a2-2761-4940-e95f-b1f1046df155"
      },
      "outputs": [
        {
          "data": {
            "text/plain": [
              "Index(['Id', 'MSSubClass', 'MSZoning', 'LotFrontage', 'LotArea', 'Street',\n",
              "       'Alley', 'LotShape', 'LandContour', 'Utilities', 'LotConfig',\n",
              "       'LandSlope', 'Neighborhood', 'Condition1', 'Condition2', 'BldgType',\n",
              "       'HouseStyle', 'OverallQual', 'OverallCond', 'YearBuilt', 'YearRemodAdd',\n",
              "       'RoofStyle', 'RoofMatl', 'Exterior1st', 'Exterior2nd', 'MasVnrType',\n",
              "       'MasVnrArea', 'ExterQual', 'ExterCond', 'Foundation', 'BsmtQual',\n",
              "       'BsmtCond', 'BsmtExposure', 'BsmtFinType1', 'BsmtFinSF1',\n",
              "       'BsmtFinType2', 'BsmtFinSF2', 'BsmtUnfSF', 'TotalBsmtSF', 'Heating',\n",
              "       'HeatingQC', 'CentralAir', 'Electrical', '1stFlrSF', '2ndFlrSF',\n",
              "       'LowQualFinSF', 'GrLivArea', 'BsmtFullBath', 'BsmtHalfBath', 'FullBath',\n",
              "       'HalfBath', 'BedroomAbvGr', 'KitchenAbvGr', 'KitchenQual',\n",
              "       'TotRmsAbvGrd', 'Functional', 'Fireplaces', 'FireplaceQu', 'GarageType',\n",
              "       'GarageYrBlt', 'GarageFinish', 'GarageCars', 'GarageArea', 'GarageQual',\n",
              "       'GarageCond', 'PavedDrive', 'WoodDeckSF', 'OpenPorchSF',\n",
              "       'EnclosedPorch', '3SsnPorch', 'ScreenPorch', 'PoolArea', 'PoolQC',\n",
              "       'Fence', 'MiscFeature', 'MiscVal', 'MoSold', 'YrSold', 'SaleType',\n",
              "       'SaleCondition', 'SalePrice'],\n",
              "      dtype='object')"
            ]
          },
          "execution_count": 1131,
          "metadata": {},
          "output_type": "execute_result"
        }
      ],
      "source": [
        "df_train.columns"
      ]
    },
    {
      "cell_type": "code",
      "execution_count": 1132,
      "metadata": {
        "colab": {
          "base_uri": "https://localhost:8080/"
        },
        "id": "fZ_-WhbEBLMJ",
        "outputId": "f2f0be66-b6ce-466c-cf11-6ac6bcb4a666"
      },
      "outputs": [
        {
          "name": "stdout",
          "output_type": "stream",
          "text": [
            "<class 'pandas.core.frame.DataFrame'>\n",
            "RangeIndex: 1460 entries, 0 to 1459\n",
            "Data columns (total 81 columns):\n",
            " #   Column         Non-Null Count  Dtype  \n",
            "---  ------         --------------  -----  \n",
            " 0   Id             1460 non-null   int64  \n",
            " 1   MSSubClass     1460 non-null   int64  \n",
            " 2   MSZoning       1460 non-null   object \n",
            " 3   LotFrontage    1201 non-null   float64\n",
            " 4   LotArea        1460 non-null   int64  \n",
            " 5   Street         1460 non-null   object \n",
            " 6   Alley          91 non-null     object \n",
            " 7   LotShape       1460 non-null   object \n",
            " 8   LandContour    1460 non-null   object \n",
            " 9   Utilities      1460 non-null   object \n",
            " 10  LotConfig      1460 non-null   object \n",
            " 11  LandSlope      1460 non-null   object \n",
            " 12  Neighborhood   1460 non-null   object \n",
            " 13  Condition1     1460 non-null   object \n",
            " 14  Condition2     1460 non-null   object \n",
            " 15  BldgType       1460 non-null   object \n",
            " 16  HouseStyle     1460 non-null   object \n",
            " 17  OverallQual    1460 non-null   int64  \n",
            " 18  OverallCond    1460 non-null   int64  \n",
            " 19  YearBuilt      1460 non-null   int64  \n",
            " 20  YearRemodAdd   1460 non-null   int64  \n",
            " 21  RoofStyle      1460 non-null   object \n",
            " 22  RoofMatl       1460 non-null   object \n",
            " 23  Exterior1st    1460 non-null   object \n",
            " 24  Exterior2nd    1460 non-null   object \n",
            " 25  MasVnrType     1452 non-null   object \n",
            " 26  MasVnrArea     1452 non-null   float64\n",
            " 27  ExterQual      1460 non-null   object \n",
            " 28  ExterCond      1460 non-null   object \n",
            " 29  Foundation     1460 non-null   object \n",
            " 30  BsmtQual       1423 non-null   object \n",
            " 31  BsmtCond       1423 non-null   object \n",
            " 32  BsmtExposure   1422 non-null   object \n",
            " 33  BsmtFinType1   1423 non-null   object \n",
            " 34  BsmtFinSF1     1460 non-null   int64  \n",
            " 35  BsmtFinType2   1422 non-null   object \n",
            " 36  BsmtFinSF2     1460 non-null   int64  \n",
            " 37  BsmtUnfSF      1460 non-null   int64  \n",
            " 38  TotalBsmtSF    1460 non-null   int64  \n",
            " 39  Heating        1460 non-null   object \n",
            " 40  HeatingQC      1460 non-null   object \n",
            " 41  CentralAir     1460 non-null   object \n",
            " 42  Electrical     1459 non-null   object \n",
            " 43  1stFlrSF       1460 non-null   int64  \n",
            " 44  2ndFlrSF       1460 non-null   int64  \n",
            " 45  LowQualFinSF   1460 non-null   int64  \n",
            " 46  GrLivArea      1460 non-null   int64  \n",
            " 47  BsmtFullBath   1460 non-null   int64  \n",
            " 48  BsmtHalfBath   1460 non-null   int64  \n",
            " 49  FullBath       1460 non-null   int64  \n",
            " 50  HalfBath       1460 non-null   int64  \n",
            " 51  BedroomAbvGr   1460 non-null   int64  \n",
            " 52  KitchenAbvGr   1460 non-null   int64  \n",
            " 53  KitchenQual    1460 non-null   object \n",
            " 54  TotRmsAbvGrd   1460 non-null   int64  \n",
            " 55  Functional     1460 non-null   object \n",
            " 56  Fireplaces     1460 non-null   int64  \n",
            " 57  FireplaceQu    770 non-null    object \n",
            " 58  GarageType     1379 non-null   object \n",
            " 59  GarageYrBlt    1379 non-null   float64\n",
            " 60  GarageFinish   1379 non-null   object \n",
            " 61  GarageCars     1460 non-null   int64  \n",
            " 62  GarageArea     1460 non-null   int64  \n",
            " 63  GarageQual     1379 non-null   object \n",
            " 64  GarageCond     1379 non-null   object \n",
            " 65  PavedDrive     1460 non-null   object \n",
            " 66  WoodDeckSF     1460 non-null   int64  \n",
            " 67  OpenPorchSF    1460 non-null   int64  \n",
            " 68  EnclosedPorch  1460 non-null   int64  \n",
            " 69  3SsnPorch      1460 non-null   int64  \n",
            " 70  ScreenPorch    1460 non-null   int64  \n",
            " 71  PoolArea       1460 non-null   int64  \n",
            " 72  PoolQC         7 non-null      object \n",
            " 73  Fence          281 non-null    object \n",
            " 74  MiscFeature    54 non-null     object \n",
            " 75  MiscVal        1460 non-null   int64  \n",
            " 76  MoSold         1460 non-null   int64  \n",
            " 77  YrSold         1460 non-null   int64  \n",
            " 78  SaleType       1460 non-null   object \n",
            " 79  SaleCondition  1460 non-null   object \n",
            " 80  SalePrice      1460 non-null   int64  \n",
            "dtypes: float64(3), int64(35), object(43)\n",
            "memory usage: 924.0+ KB\n"
          ]
        }
      ],
      "source": [
        "df_train.info()"
      ]
    },
    {
      "cell_type": "code",
      "execution_count": 1133,
      "metadata": {
        "colab": {
          "base_uri": "https://localhost:8080/"
        },
        "id": "RK0OmXSmiCyV",
        "outputId": "1eb59304-60de-435c-ac6c-595147c5b3fe"
      },
      "outputs": [
        {
          "name": "stdout",
          "output_type": "stream",
          "text": [
            "Id missing values: 0\n",
            "MSSubClass missing values: 0\n",
            "MSZoning missing values: 0\n",
            "LotFrontage missing values: 259\n",
            "LotArea missing values: 0\n",
            "Street missing values: 0\n",
            "Alley missing values: 1369\n",
            "LotShape missing values: 0\n",
            "LandContour missing values: 0\n",
            "Utilities missing values: 0\n",
            "LotConfig missing values: 0\n",
            "LandSlope missing values: 0\n",
            "Neighborhood missing values: 0\n",
            "Condition1 missing values: 0\n",
            "Condition2 missing values: 0\n",
            "BldgType missing values: 0\n",
            "HouseStyle missing values: 0\n",
            "OverallQual missing values: 0\n",
            "OverallCond missing values: 0\n",
            "YearBuilt missing values: 0\n",
            "YearRemodAdd missing values: 0\n",
            "RoofStyle missing values: 0\n",
            "RoofMatl missing values: 0\n",
            "Exterior1st missing values: 0\n",
            "Exterior2nd missing values: 0\n",
            "MasVnrType missing values: 8\n",
            "MasVnrArea missing values: 8\n",
            "ExterQual missing values: 0\n",
            "ExterCond missing values: 0\n",
            "Foundation missing values: 0\n",
            "BsmtQual missing values: 37\n",
            "BsmtCond missing values: 37\n",
            "BsmtExposure missing values: 38\n",
            "BsmtFinType1 missing values: 37\n",
            "BsmtFinSF1 missing values: 0\n",
            "BsmtFinType2 missing values: 38\n",
            "BsmtFinSF2 missing values: 0\n",
            "BsmtUnfSF missing values: 0\n",
            "TotalBsmtSF missing values: 0\n",
            "Heating missing values: 0\n",
            "HeatingQC missing values: 0\n",
            "CentralAir missing values: 0\n",
            "Electrical missing values: 1\n",
            "1stFlrSF missing values: 0\n",
            "2ndFlrSF missing values: 0\n",
            "LowQualFinSF missing values: 0\n",
            "GrLivArea missing values: 0\n",
            "BsmtFullBath missing values: 0\n",
            "BsmtHalfBath missing values: 0\n",
            "FullBath missing values: 0\n",
            "HalfBath missing values: 0\n",
            "BedroomAbvGr missing values: 0\n",
            "KitchenAbvGr missing values: 0\n",
            "KitchenQual missing values: 0\n",
            "TotRmsAbvGrd missing values: 0\n",
            "Functional missing values: 0\n",
            "Fireplaces missing values: 0\n",
            "FireplaceQu missing values: 690\n",
            "GarageType missing values: 81\n",
            "GarageYrBlt missing values: 81\n",
            "GarageFinish missing values: 81\n",
            "GarageCars missing values: 0\n",
            "GarageArea missing values: 0\n",
            "GarageQual missing values: 81\n",
            "GarageCond missing values: 81\n",
            "PavedDrive missing values: 0\n",
            "WoodDeckSF missing values: 0\n",
            "OpenPorchSF missing values: 0\n",
            "EnclosedPorch missing values: 0\n",
            "3SsnPorch missing values: 0\n",
            "ScreenPorch missing values: 0\n",
            "PoolArea missing values: 0\n",
            "PoolQC missing values: 1453\n",
            "Fence missing values: 1179\n",
            "MiscFeature missing values: 1406\n",
            "MiscVal missing values: 0\n",
            "MoSold missing values: 0\n",
            "YrSold missing values: 0\n",
            "SaleType missing values: 0\n",
            "SaleCondition missing values: 0\n",
            "SalePrice missing values: 0\n"
          ]
        }
      ],
      "source": [
        "for col in df_train.columns:\n",
        "  missing_values = df_train[col].isna().sum()\n",
        "  print(f\"{col} missing values: {missing_values}\")"
      ]
    },
    {
      "cell_type": "markdown",
      "metadata": {
        "id": "Iwi9JNTUgf4c"
      },
      "source": [
        "**Pembagian kolom kategorikal dan numerik**"
      ]
    },
    {
      "cell_type": "code",
      "execution_count": 1134,
      "metadata": {
        "id": "gkDSIV3kBQqr"
      },
      "outputs": [],
      "source": [
        "numerics = ['int8','int16', 'int32', 'int64', 'float16', 'float32', 'float64']\n",
        "categorical=[\"object\"]\n",
        "eda_num = df_train.select_dtypes(include=numerics)\n",
        "eda_cat = df_train.select_dtypes(include=categorical) "
      ]
    },
    {
      "cell_type": "code",
      "execution_count": 1135,
      "metadata": {
        "id": "LjMdyjZSeBWu"
      },
      "outputs": [],
      "source": [
        "eda_num.drop(['MSSubClass', 'OverallQual', 'OverallCond'], axis=1, inplace=True)"
      ]
    },
    {
      "cell_type": "code",
      "execution_count": 1136,
      "metadata": {
        "id": "UIiKwUi4eieW"
      },
      "outputs": [],
      "source": [
        "add = {'MSSubClass': df_train['MSSubClass'], \n",
        "       'OverallQual': df_train['OverallQual'],\n",
        "       'OverallCond': df_train['OverallCond'],}\n",
        "for i in add:\n",
        "  eda_cat[i] = add[i]"
      ]
    },
    {
      "cell_type": "code",
      "execution_count": 1137,
      "metadata": {
        "colab": {
          "base_uri": "https://localhost:8080/"
        },
        "id": "N4CTkZYkWrmS",
        "outputId": "f3ccf514-ebca-4e21-d58c-1ca66cd51329"
      },
      "outputs": [
        {
          "data": {
            "text/plain": [
              "35"
            ]
          },
          "execution_count": 1137,
          "metadata": {},
          "output_type": "execute_result"
        }
      ],
      "source": [
        "eda_num.columns.value_counts().sum()"
      ]
    },
    {
      "cell_type": "code",
      "execution_count": 1138,
      "metadata": {
        "colab": {
          "base_uri": "https://localhost:8080/"
        },
        "id": "Pn3aMTPbjZ29",
        "outputId": "e34ae2d5-205d-49e1-d79b-ad3ffc4e902d"
      },
      "outputs": [
        {
          "data": {
            "text/plain": [
              "46"
            ]
          },
          "execution_count": 1138,
          "metadata": {},
          "output_type": "execute_result"
        }
      ],
      "source": [
        "eda_cat.columns.value_counts().sum()"
      ]
    },
    {
      "cell_type": "code",
      "execution_count": 1139,
      "metadata": {
        "colab": {
          "base_uri": "https://localhost:8080/"
        },
        "id": "9gz5bVSEfWAU",
        "outputId": "dcf4d795-4d3c-4332-8a2d-dd752b6575d1"
      },
      "outputs": [
        {
          "data": {
            "text/plain": [
              "0       60\n",
              "1       20\n",
              "2       60\n",
              "3       70\n",
              "4       60\n",
              "        ..\n",
              "1455    60\n",
              "1456    20\n",
              "1457    70\n",
              "1458    20\n",
              "1459    20\n",
              "Name: MSSubClass, Length: 1460, dtype: int64"
            ]
          },
          "execution_count": 1139,
          "metadata": {},
          "output_type": "execute_result"
        }
      ],
      "source": [
        "eda_cat.MSSubClass"
      ]
    },
    {
      "cell_type": "markdown",
      "metadata": {
        "id": "AwAYlKtoi5XQ"
      },
      "source": [
        "# **Exploratory Data Analysis**"
      ]
    },
    {
      "cell_type": "code",
      "execution_count": 1140,
      "metadata": {
        "id": "rH-P9qUnGiYS"
      },
      "outputs": [],
      "source": [
        "grouped_df = df_train.groupby(\"OverallQual\")[[\"SalePrice\"]].mean()"
      ]
    },
    {
      "cell_type": "code",
      "execution_count": 1141,
      "metadata": {
        "colab": {
          "base_uri": "https://localhost:8080/",
          "height": 470
        },
        "id": "TB3DCin-IbEV",
        "outputId": "45c4e7cf-b6c7-4e18-857c-e9d1bf99c06a"
      },
      "outputs": [
        {
          "data": {
            "text/plain": [
              "<AxesSubplot:xlabel='OverallQual'>"
            ]
          },
          "execution_count": 1141,
          "metadata": {},
          "output_type": "execute_result"
        },
        {
          "data": {
            "image/png": "[encoded data removed]",
            "text/plain": [
              "<Figure size 432x288 with 1 Axes>"
            ]
          },
          "metadata": {
            "needs_background": "light"
          },
          "output_type": "display_data"
        }
      ],
      "source": [
        "grouped_df.plot(kind='bar')"
      ]
    },
    {
      "cell_type": "code",
      "execution_count": 1142,
      "metadata": {
        "colab": {
          "base_uri": "https://localhost:8080/"
        },
        "id": "tNl59wB7l3Ye",
        "outputId": "2fc97c10-24b6-4ac8-abb1-e6b59d472485"
      },
      "outputs": [
        {
          "name": "stdout",
          "output_type": "stream",
          "text": [
            "2010\n",
            "1872\n"
          ]
        }
      ],
      "source": [
        "print(df_train.YearBuilt.max())\n",
        "print(df_train.YearBuilt.min())"
      ]
    },
    {
      "cell_type": "code",
      "execution_count": 1143,
      "metadata": {
        "colab": {
          "base_uri": "https://localhost:8080/",
          "height": 506
        },
        "id": "znTLlxP9mVXR",
        "outputId": "6b426e47-ad25-4579-80f9-7c11f3e21961"
      },
      "outputs": [
        {
          "data": {
            "image/png": "[encoded data removed]",
            "text/plain": [
              "<Figure size 360x360 with 1 Axes>"
            ]
          },
          "metadata": {
            "needs_background": "light"
          },
          "output_type": "display_data"
        }
      ],
      "source": [
        "#Rumah yang disale kebanyakan berada pada tahun \n",
        "sns.displot(data=df_train, x=df_train['YearBuilt'])\n",
        "plt.show()"
      ]
    },
    {
      "cell_type": "code",
      "execution_count": 1144,
      "metadata": {
        "colab": {
          "base_uri": "https://localhost:8080/"
        },
        "id": "gDXeCbi4TLoZ",
        "outputId": "57a28850-3773-4cb4-85ad-2efc7ff44946"
      },
      "outputs": [
        {
          "data": {
            "text/plain": [
              "RL         1151\n",
              "RM          218\n",
              "FV           65\n",
              "RH           16\n",
              "C (all)      10\n",
              "Name: MSZoning, dtype: int64"
            ]
          },
          "execution_count": 1144,
          "metadata": {},
          "output_type": "execute_result"
        }
      ],
      "source": [
        "df_train.MSZoning.value_counts()"
      ]
    },
    {
      "cell_type": "code",
      "execution_count": 1145,
      "metadata": {
        "colab": {
          "base_uri": "https://localhost:8080/",
          "height": 422
        },
        "id": "qb3_aq9XRcDh",
        "outputId": "2b3ffe22-8e53-4882-99fd-c0d4e520bb63"
      },
      "outputs": [
        {
          "data": {
            "image/png": "[encoded data removed]",
            "text/plain": [
              "<Figure size 360x360 with 1 Axes>"
            ]
          },
          "metadata": {},
          "output_type": "display_data"
        }
      ],
      "source": [
        "RL = df_train.loc[df_train['MSZoning']== 'RL'].count()[0]\n",
        "RM = df_train.loc[df_train['MSZoning']== 'RM'].count()[0]\n",
        "FV = df_train.loc[df_train['MSZoning']== 'FV'].count()[0]\n",
        "\n",
        "#Melalui pie chart ini kita mengetahui bahwa rumah di Ames, Iowa kebanyakan berada di Residential Low Density\n",
        "plt.figure(figsize=(5,5))\n",
        "plt.pie([RL, RM, FV], autopct='%1.1f%%', labels=['RL','RM', 'FV'])\n",
        "plt.show()"
      ]
    },
    {
      "cell_type": "code",
      "execution_count": 1146,
      "metadata": {
        "colab": {
          "base_uri": "https://localhost:8080/"
        },
        "id": "5QJJxKLuVN0c",
        "outputId": "f4a6b848-183d-4138-aede-e5f26ea363e1"
      },
      "outputs": [
        {
          "data": {
            "text/plain": [
              "Normal     1198\n",
              "Partial     125\n",
              "Abnorml     101\n",
              "Family       20\n",
              "Alloca       12\n",
              "AdjLand       4\n",
              "Name: SaleCondition, dtype: int64"
            ]
          },
          "execution_count": 1146,
          "metadata": {},
          "output_type": "execute_result"
        }
      ],
      "source": [
        "df_train.SaleCondition.value_counts()"
      ]
    },
    {
      "cell_type": "code",
      "execution_count": 1147,
      "metadata": {
        "colab": {
          "base_uri": "https://localhost:8080/",
          "height": 422
        },
        "id": "g_CSU_qqVqxi",
        "outputId": "f5972ef4-4c1f-4f88-eb96-bc134d28630f"
      },
      "outputs": [
        {
          "data": {
            "image/png": "[encoded data removed]",
            "text/plain": [
              "<Figure size 360x360 with 1 Axes>"
            ]
          },
          "metadata": {},
          "output_type": "display_data"
        }
      ],
      "source": [
        "Normal = df_train.loc[df_train['SaleCondition']== 'Normal'].count()[0]\n",
        "Partial = df_train.loc[df_train['SaleCondition']== 'Partial'].count()[0]\n",
        "Abnorml = df_train.loc[df_train['SaleCondition']== 'Abnorml'].count()[0]\n",
        "\n",
        "plt.figure(figsize=(5,5))\n",
        "plt.pie([Normal, Partial, Abnorml], autopct='%1.1f%%', labels=['Normal','Partial', 'Abnorml'])\n",
        "plt.show()\n"
      ]
    },
    {
      "cell_type": "markdown",
      "metadata": {
        "id": "8hBSz3LBXDV2"
      },
      "source": [
        "# Bivariate Analysis"
      ]
    },
    {
      "cell_type": "code",
      "execution_count": 1148,
      "metadata": {
        "colab": {
          "base_uri": "https://localhost:8080/",
          "height": 1000
        },
        "id": "5ljgXZnwQ0eP",
        "outputId": "88a90b99-e4af-4475-8a21-0e899be6defd"
      },
      "outputs": [
        {
          "data": {
            "image/png": "[encoded data removed]",
            "text/plain": [
              "<Figure size 720x1080 with 32 Axes>"
            ]
          },
          "metadata": {
            "needs_background": "light"
          },
          "output_type": "display_data"
        }
      ],
      "source": [
        "data_coba=eda_num.copy()\n",
        "data_coba.drop(columns=[\"YrSold\",\"MoSold\",\"Id\"],inplace=True)\n",
        "plt.figure(figsize =(10,15))\n",
        "for i in enumerate(data_coba):\n",
        "    plt.subplot(8,4,i[0]+1)\n",
        "    sns.kdeplot(data_coba[i[1]])\n",
        "    plt.tight_layout()"
      ]
    },
    {
      "cell_type": "code",
      "execution_count": 1149,
      "metadata": {
        "colab": {
          "base_uri": "https://localhost:8080/",
          "height": 1000
        },
        "id": "4UC2kfWMRUa2",
        "outputId": "707aa760-39ba-4ca5-87ef-956890383d31"
      },
      "outputs": [
        {
          "data": {
            "image/png": "[encoded data removed]",
            "text/plain": [
              "<Figure size 720x4320 with 36 Axes>"
            ]
          },
          "metadata": {
            "needs_background": "light"
          },
          "output_type": "display_data"
        }
      ],
      "source": [
        "\n",
        "n_cols = 3\n",
        "n_rows = (len(eda_num.columns) + n_cols - 1) // n_cols\n",
        "\n",
        "fig, axes = plt.subplots(nrows=n_rows, ncols=n_cols, figsize=(10, 5*n_rows))\n",
        "\n",
        "for i, ax in enumerate(axes.flatten()):\n",
        "    if i < len(eda_num.columns):\n",
        "        col = eda_num.columns[i]\n",
        "        sns.boxplot(data=eda_num[col], color='green', orient=\"h\", ax=ax)\n",
        "        ax.set_title(col)\n",
        "    else:\n",
        "        ax.axis('off')\n",
        "\n",
        "plt.tight_layout()\n",
        "plt.show()\n",
        "  "
      ]
    },
    {
      "cell_type": "code",
      "execution_count": 1150,
      "metadata": {
        "id": "osoR8QE-L33l"
      },
      "outputs": [],
      "source": [
        "tanpa_label=df_train.drop(columns=\"SalePrice\")"
      ]
    },
    {
      "cell_type": "code",
      "execution_count": 1151,
      "metadata": {
        "id": "Dz1diBa4CH0s"
      },
      "outputs": [],
      "source": [
        "corr_matrix = df_train.corr()"
      ]
    },
    {
      "cell_type": "code",
      "execution_count": 1152,
      "metadata": {
        "colab": {
          "base_uri": "https://localhost:8080/",
          "height": 539
        },
        "id": "Jo-DniH3NSNS",
        "outputId": "6fff05c9-d37c-4152-d3b7-c86aae4619d5"
      },
      "outputs": [
        {
          "data": {
            "text/plain": [
              "<AxesSubplot:>"
            ]
          },
          "execution_count": 1152,
          "metadata": {},
          "output_type": "execute_result"
        },
        {
          "data": {
            "image/png": "[encoded data removed]",
            "text/plain": [
              "<Figure size 432x288 with 2 Axes>"
            ]
          },
          "metadata": {
            "needs_background": "light"
          },
          "output_type": "display_data"
        }
      ],
      "source": [
        "sns.heatmap(corr_matrix)"
      ]
    },
    {
      "cell_type": "code",
      "execution_count": 1153,
      "metadata": {
        "id": "0B6G1aWTNW6W"
      },
      "outputs": [],
      "source": [
        "threshold = 0.5"
      ]
    },
    {
      "cell_type": "code",
      "execution_count": 1154,
      "metadata": {
        "colab": {
          "base_uri": "https://localhost:8080/",
          "height": 1000
        },
        "id": "UcFHoxtqNyJU",
        "outputId": "5cd00985-256a-4227-a7c7-7040d1a2a00f"
      },
      "outputs": [
        {
          "data": {
            "text/plain": [
              "<AxesSubplot:>"
            ]
          },
          "execution_count": 1154,
          "metadata": {},
          "output_type": "execute_result"
        },
        {
          "data": {
            "image/png": "[encoded data removed]",
            "text/plain": [
              "<Figure size 1080x1080 with 2 Axes>"
            ]
          },
          "metadata": {
            "needs_background": "light"
          },
          "output_type": "display_data"
        }
      ],
      "source": [
        "plt.figure(figsize=(15,15))\n",
        "corr_matrix[corr_matrix < threshold] = np.nan\n",
        "sns.heatmap(corr_matrix)"
      ]
    },
    {
      "cell_type": "code",
      "execution_count": 1155,
      "metadata": {
        "colab": {
          "base_uri": "https://localhost:8080/",
          "height": 332
        },
        "id": "HJ9ejQy8oOyP",
        "outputId": "de05c931-7a3e-4535-8362-77fa0aef0de2"
      },
      "outputs": [
        {
          "data": {
            "text/html": [
              "<div>\n",
              "<style scoped>\n",
              "    .dataframe tbody tr th:only-of-type {\n",
              "        vertical-align: middle;\n",
              "    }\n",
              "\n",
              "    .dataframe tbody tr th {\n",
              "        vertical-align: top;\n",
              "    }\n",
              "\n",
              "    .dataframe thead th {\n",
              "        text-align: right;\n",
              "    }\n",
              "</style>\n",
              "<table border=\"1\" class=\"dataframe\">\n",
              "  <thead>\n",
              "    <tr style=\"text-align: right;\">\n",
              "      <th></th>\n",
              "      <th>HouseStyle</th>\n",
              "      <th>SalePrice</th>\n",
              "    </tr>\n",
              "    <tr>\n",
              "      <th>HouseStyle</th>\n",
              "      <th></th>\n",
              "      <th></th>\n",
              "    </tr>\n",
              "  </thead>\n",
              "  <tbody>\n",
              "    <tr>\n",
              "      <th>1.5Fin</th>\n",
              "      <td>154</td>\n",
              "      <td>143116.740260</td>\n",
              "    </tr>\n",
              "    <tr>\n",
              "      <th>1.5Unf</th>\n",
              "      <td>14</td>\n",
              "      <td>110150.000000</td>\n",
              "    </tr>\n",
              "    <tr>\n",
              "      <th>1Story</th>\n",
              "      <td>726</td>\n",
              "      <td>175985.477961</td>\n",
              "    </tr>\n",
              "    <tr>\n",
              "      <th>2.5Fin</th>\n",
              "      <td>8</td>\n",
              "      <td>220000.000000</td>\n",
              "    </tr>\n",
              "    <tr>\n",
              "      <th>2.5Unf</th>\n",
              "      <td>11</td>\n",
              "      <td>157354.545455</td>\n",
              "    </tr>\n",
              "    <tr>\n",
              "      <th>2Story</th>\n",
              "      <td>445</td>\n",
              "      <td>210051.764045</td>\n",
              "    </tr>\n",
              "    <tr>\n",
              "      <th>SFoyer</th>\n",
              "      <td>37</td>\n",
              "      <td>135074.486486</td>\n",
              "    </tr>\n",
              "    <tr>\n",
              "      <th>SLvl</th>\n",
              "      <td>65</td>\n",
              "      <td>166703.384615</td>\n",
              "    </tr>\n",
              "  </tbody>\n",
              "</table>\n",
              "</div>"
            ],
            "text/plain": [
              "            HouseStyle      SalePrice\n",
              "HouseStyle                           \n",
              "1.5Fin             154  143116.740260\n",
              "1.5Unf              14  110150.000000\n",
              "1Story             726  175985.477961\n",
              "2.5Fin               8  220000.000000\n",
              "2.5Unf              11  157354.545455\n",
              "2Story             445  210051.764045\n",
              "SFoyer              37  135074.486486\n",
              "SLvl                65  166703.384615"
            ]
          },
          "execution_count": 1155,
          "metadata": {},
          "output_type": "execute_result"
        }
      ],
      "source": [
        "# Tipe Rumah 1 lantai, 2lantai (House Style)\n",
        "# Kebanyakan pada 1story style dengan harga rata\" 175985.477961\n",
        "df_train.groupby(\"HouseStyle\").agg({\"HouseStyle\":\"count\",\"SalePrice\":\"mean\"})\n",
        "\n",
        "\n"
      ]
    },
    {
      "cell_type": "code",
      "execution_count": 1156,
      "metadata": {
        "colab": {
          "base_uri": "https://localhost:8080/",
          "height": 505
        },
        "id": "OYB7H65g4rKW",
        "outputId": "cb12dbc6-c092-42c9-b81d-fee8a80f6076"
      },
      "outputs": [
        {
          "data": {
            "image/png": "[encoded data removed]",
            "text/plain": [
              "<Figure size 432x288 with 2 Axes>"
            ]
          },
          "metadata": {
            "needs_background": "light"
          },
          "output_type": "display_data"
        }
      ],
      "source": [
        "grouped_data = df_train.groupby('HouseStyle').agg({'HouseStyle': 'count', 'SalePrice': 'mean'})\n",
        "\n",
        "# Create a bar chart\n",
        "grouped_data.plot(kind='bar', y='HouseStyle', legend=False)\n",
        "plt.xlabel('House Style')\n",
        "plt.ylabel('Count')\n",
        "plt.twinx()\n",
        "grouped_data.plot(kind='line', y='SalePrice', ax=plt.gca(), legend=False, color='r')\n",
        "plt.ylabel('Mean Sale Price ($)')\n",
        "plt.title('House Styles by Count and Mean Sale Price')\n",
        "plt.show()"
      ]
    },
    {
      "cell_type": "code",
      "execution_count": 1157,
      "metadata": {
        "colab": {
          "base_uri": "https://localhost:8080/",
          "height": 564
        },
        "id": "HHXrVMe_oVm2",
        "outputId": "8e86e4cd-5e0a-464d-edc3-0227e83d97a4"
      },
      "outputs": [
        {
          "data": {
            "image/png": "[encoded data removed]",
            "text/plain": [
              "<Figure size 576x432 with 1 Axes>"
            ]
          },
          "metadata": {
            "needs_background": "light"
          },
          "output_type": "display_data"
        }
      ],
      "source": [
        "plt.figure(figsize=(8, 6))\n",
        "ax = sns.barplot(x=df_train[\"YrSold\"], y=df_train[\"SalePrice\"], estimator=np.mean, color='green')\n",
        "plt.title(\"Average Sale Price by Year Sold\")\n",
        "plt.xlabel(\"Year Sold\")\n",
        "plt.ylabel(\"Average Sale Price\")\n",
        "\n",
        "# Annotate the bar plot with the actual values\n",
        "for i, v in enumerate(df_train.groupby([\"YrSold\"])[['SalePrice']].agg('mean')['SalePrice']):\n",
        "    ax.text(i, v+0.06*ax.get_ylim()[1], str(round(v,2)), ha=\"center\")\n",
        "\n",
        "plt.show()"
      ]
    },
    {
      "cell_type": "code",
      "execution_count": 1158,
      "metadata": {
        "colab": {
          "base_uri": "https://localhost:8080/"
        },
        "id": "rcBYVk_ryGfq",
        "outputId": "356e4159-bdc8-47fc-bee0-a74b804fb89b"
      },
      "outputs": [
        {
          "data": {
            "text/plain": [
              "NAmes      225\n",
              "CollgCr    150\n",
              "OldTown    113\n",
              "Edwards    100\n",
              "Somerst     86\n",
              "Gilbert     79\n",
              "NridgHt     77\n",
              "Sawyer      74\n",
              "NWAmes      73\n",
              "SawyerW     59\n",
              "BrkSide     58\n",
              "Crawfor     51\n",
              "Mitchel     49\n",
              "NoRidge     41\n",
              "Timber      38\n",
              "IDOTRR      37\n",
              "ClearCr     28\n",
              "StoneBr     25\n",
              "SWISU       25\n",
              "MeadowV     17\n",
              "Blmngtn     17\n",
              "BrDale      16\n",
              "Veenker     11\n",
              "NPkVill      9\n",
              "Blueste      2\n",
              "Name: Neighborhood, dtype: int64"
            ]
          },
          "execution_count": 1158,
          "metadata": {},
          "output_type": "execute_result"
        }
      ],
      "source": [
        "df_train.Neighborhood.value_counts()"
      ]
    },
    {
      "cell_type": "code",
      "execution_count": 1159,
      "metadata": {
        "colab": {
          "base_uri": "https://localhost:8080/",
          "height": 525
        },
        "id": "_vXBBcMIyIUv",
        "outputId": "c37bf934-53c2-415a-8ad6-5ca57564789d"
      },
      "outputs": [
        {
          "data": {
            "image/png": "[encoded data removed]",
            "text/plain": [
              "<Figure size 432x288 with 1 Axes>"
            ]
          },
          "metadata": {
            "needs_background": "light"
          },
          "output_type": "display_data"
        }
      ],
      "source": [
        "#Harga rata-rata setiap rumah, diurutkan dari terbesar -> terkecil.\n",
        "neighborhood_avg_price = df_train.groupby([\"Neighborhood\"])[[\"SalePrice\"]].mean().sort_values(by='SalePrice',ascending=False)\n",
        "neighborhood_avg_price.plot.bar(ylabel = 'HousePrice')\n",
        "plt.axhline(y=df_train.SalePrice.mean(), color='red')\n",
        "plt.title(\"House Price in Ames Neighborhood\")\n",
        "plt.show()\n"
      ]
    },
    {
      "cell_type": "code",
      "execution_count": 1160,
      "metadata": {
        "colab": {
          "base_uri": "https://localhost:8080/"
        },
        "id": "jQbinda3ogdg",
        "outputId": "189f5308-46e2-4ae8-b26c-d35850c0de27"
      },
      "outputs": [
        {
          "data": {
            "text/plain": [
              "Index(['Id', 'MSSubClass', 'MSZoning', 'LotFrontage', 'LotArea', 'Street',\n",
              "       'Alley', 'LotShape', 'LandContour', 'Utilities', 'LotConfig',\n",
              "       'LandSlope', 'Neighborhood', 'Condition1', 'Condition2', 'BldgType',\n",
              "       'HouseStyle', 'OverallQual', 'OverallCond', 'YearBuilt', 'YearRemodAdd',\n",
              "       'RoofStyle', 'RoofMatl', 'Exterior1st', 'Exterior2nd', 'MasVnrType',\n",
              "       'MasVnrArea', 'ExterQual', 'ExterCond', 'Foundation', 'BsmtQual',\n",
              "       'BsmtCond', 'BsmtExposure', 'BsmtFinType1', 'BsmtFinSF1',\n",
              "       'BsmtFinType2', 'BsmtFinSF2', 'BsmtUnfSF', 'TotalBsmtSF', 'Heating',\n",
              "       'HeatingQC', 'CentralAir', 'Electrical', '1stFlrSF', '2ndFlrSF',\n",
              "       'LowQualFinSF', 'GrLivArea', 'BsmtFullBath', 'BsmtHalfBath', 'FullBath',\n",
              "       'HalfBath', 'BedroomAbvGr', 'KitchenAbvGr', 'KitchenQual',\n",
              "       'TotRmsAbvGrd', 'Functional', 'Fireplaces', 'FireplaceQu', 'GarageType',\n",
              "       'GarageYrBlt', 'GarageFinish', 'GarageCars', 'GarageArea', 'GarageQual',\n",
              "       'GarageCond', 'PavedDrive', 'WoodDeckSF', 'OpenPorchSF',\n",
              "       'EnclosedPorch', '3SsnPorch', 'ScreenPorch', 'PoolArea', 'PoolQC',\n",
              "       'Fence', 'MiscFeature', 'MiscVal', 'MoSold', 'YrSold', 'SaleType',\n",
              "       'SaleCondition', 'SalePrice'],\n",
              "      dtype='object')"
            ]
          },
          "execution_count": 1160,
          "metadata": {},
          "output_type": "execute_result"
        }
      ],
      "source": [
        "df_train.columns"
      ]
    },
    {
      "cell_type": "code",
      "execution_count": 1161,
      "metadata": {
        "id": "oEnNigTpTocx"
      },
      "outputs": [],
      "source": [
        "df_train['MoSold'] = df_train['MoSold'].astype(str)\n",
        "df_train['YrSold'] = df_train['YrSold'].astype(str)\n",
        "\n",
        "df_train['TimeSold'] = df_train['YrSold'] + df_train['MoSold']\n",
        "df_train['TimeSold'] = pd.to_datetime(df_train['TimeSold'].astype(str), format='%Y%m').dt.to_period('M')\n",
        "df_train['TimeSold'] = df_train['TimeSold'].astype(str)"
      ]
    },
    {
      "cell_type": "code",
      "execution_count": 1162,
      "metadata": {
        "id": "jLnrpL3-pdDr"
      },
      "outputs": [],
      "source": [
        "df_time = df_train[['TimeSold', 'SalePrice', 'YrSold', 'MoSold']].copy()"
      ]
    },
    {
      "cell_type": "code",
      "execution_count": 1163,
      "metadata": {
        "colab": {
          "base_uri": "https://localhost:8080/"
        },
        "id": "Cl8eHQKprrSu",
        "outputId": "7a407350-9e2c-4b7f-ffd3-2d12c105ee0c"
      },
      "outputs": [
        {
          "name": "stdout",
          "output_type": "stream",
          "text": [
            "              SalePrice\n",
            "TimeSold               \n",
            "2006-01   201090.000000\n",
            "2006-02   194322.222222\n",
            "2006-03   184982.200000\n",
            "2006-04   174312.814815\n",
            "2006-05   158928.289474\n",
            "2006-06   172283.333333\n",
            "2006-07   183211.059701\n",
            "2006-08   196239.956522\n",
            "2006-09   223768.866667\n",
            "2006-10   172356.708333\n",
            "2006-11   213285.000000\n",
            "2006-12   185545.000000\n",
            "2007-01   183234.615385\n",
            "2007-02   176301.750000\n",
            "2007-03   176567.782609\n",
            "2007-04   170772.608696\n",
            "2007-05   169873.511628\n",
            "2007-06   179725.813559\n",
            "2007-07   195396.843137\n",
            "2007-08   183941.075000\n",
            "2007-09   195533.818182\n",
            "2007-10   215428.812500\n",
            "2007-11   197709.333333\n",
            "2007-12   214414.500000\n",
            "2008-01   178504.692308\n",
            "2008-02   159370.000000\n",
            "2008-03   178505.277778\n",
            "2008-04   159293.346154\n",
            "2008-05   188334.473684\n",
            "2008-06   169730.941176\n",
            "2008-07   174562.653061\n",
            "2008-08   196076.965517\n",
            "2008-09   169626.470588\n",
            "2008-10   166690.636364\n",
            "2008-11   210981.058824\n",
            "2008-12   175600.000000\n",
            "2009-01   189735.500000\n",
            "2009-02   187450.000000\n",
            "2009-03   171547.368421\n",
            "2009-04   181680.769231\n",
            "2009-05   164482.945946\n",
            "2009-06   183260.932203\n",
            "2009-07   197984.409836\n",
            "2009-08   165670.966667\n",
            "2009-09   196849.350000\n",
            "2009-10   175206.592593\n",
            "2009-11   156381.818182\n",
            "2009-12   164014.533333\n",
            "2010-01   163852.600000\n",
            "2010-02   174823.333333\n",
            "2010-03   203181.285714\n",
            "2010-04   171344.025641\n",
            "2010-05   178422.250000\n",
            "2010-06   181639.583333\n",
            "2010-07   121750.000000\n"
          ]
        }
      ],
      "source": [
        "df_time = df_time.groupby(['TimeSold'])[['SalePrice']].mean()\n",
        "print(df_time)"
      ]
    },
    {
      "cell_type": "code",
      "execution_count": 1164,
      "metadata": {
        "id": "A7h4auRIrUH8"
      },
      "outputs": [],
      "source": [
        "df_time.reset_index(inplace=True)\n"
      ]
    },
    {
      "cell_type": "code",
      "execution_count": 1165,
      "metadata": {
        "colab": {
          "base_uri": "https://localhost:8080/"
        },
        "id": "UChWL3nXt7M2",
        "outputId": "f9a23429-8d10-4400-9575-0c45978cbfdc"
      },
      "outputs": [
        {
          "data": {
            "text/plain": [
              "str"
            ]
          },
          "execution_count": 1165,
          "metadata": {},
          "output_type": "execute_result"
        }
      ],
      "source": [
        "type(df_time['TimeSold'][0])"
      ]
    },
    {
      "cell_type": "code",
      "execution_count": 1166,
      "metadata": {
        "id": "d0TATxaD19wa"
      },
      "outputs": [],
      "source": [
        "df_time['12month_movin_average'] = df_time.SalePrice.rolling(12, min_periods=1).mean()\n",
        "df_time['6month_movin_average'] = df_time.SalePrice.rolling(6, min_periods=1).mean()"
      ]
    },
    {
      "cell_type": "code",
      "execution_count": 1167,
      "metadata": {
        "colab": {
          "base_uri": "https://localhost:8080/",
          "height": 499
        },
        "id": "CTAgRGsf56Jz",
        "outputId": "c8e86703-03f5-421f-b335-151c86dce902"
      },
      "outputs": [
        {
          "data": {
            "image/png": "[encoded data removed]",
            "text/plain": [
              "<Figure size 936x360 with 1 Axes>"
            ]
          },
          "metadata": {
            "needs_background": "light"
          },
          "output_type": "display_data"
        }
      ],
      "source": [
        "pos = [\n",
        "    '2006-01', '2006-06', '2006-12', \n",
        "    '2007-06', '2007-12', \n",
        "    '2008-06', '2008-12', \n",
        "    '2009-06', '2009-12', \n",
        "    '2010-06'\n",
        "]\n",
        "\n",
        "label = [\n",
        "    'Jan 2006', 'June 2006', 'Dec 2006', \n",
        "    'June 2007', 'Dec 2007',\n",
        "    'June 2008', 'Dec 2008',\n",
        "    'June 2009', 'Dec 2009',\n",
        "    'June 2010',\n",
        "]\n",
        "\n",
        "#harus diubah ke str dlu karena lineplot ga terima period/datetime \n",
        "plt.figure( figsize = (13, 5))\n",
        "sns.lineplot(x=df_time['TimeSold'].astype(str), y='SalePrice', data=df_time, label='Average Price')\n",
        "sns.lineplot(x=df_time['TimeSold'].astype(str), y=df_time['12month_movin_average'], data=df_time, label='12 Month Moving Average')\n",
        "sns.lineplot(x=df_time['TimeSold'].astype(str), y=df_time['6month_movin_average'], data=df_time, label='6 Month Moving Average')\n",
        "plt.title('The Yearly Average House Price in Ames', fontsize=20)\n",
        "plt.ylabel('Average House Price', fontsize=12)\n",
        "plt.xlabel('Time', fontsize=12)\n",
        "plt.xticks(pos, label)\n",
        "plt.show()"
      ]
    },
    {
      "cell_type": "markdown",
      "metadata": {
        "id": "GJ8mojizb2vS"
      },
      "source": [
        "# Feature Engineering"
      ]
    },
    {
      "cell_type": "markdown",
      "metadata": {
        "id": "RtRU8s9Thohf"
      },
      "source": [
        "Creating New Features called HouseAge"
      ]
    },
    {
      "cell_type": "code",
      "execution_count": 1168,
      "metadata": {
        "id": "58pAdnnwpbKd"
      },
      "outputs": [],
      "source": [
        "df_train['YrSold'] = df_train['YrSold'].astype(int)"
      ]
    },
    {
      "cell_type": "code",
      "execution_count": 1169,
      "metadata": {
        "id": "SziMDREYpK0D"
      },
      "outputs": [],
      "source": [
        "df_train['HouseAge'] = df_train['YrSold'] - df_train['YearBuilt']"
      ]
    },
    {
      "cell_type": "code",
      "execution_count": 1170,
      "metadata": {
        "colab": {
          "base_uri": "https://localhost:8080/",
          "height": 424
        },
        "id": "JPs5_CApb-pn",
        "outputId": "193e8982-5347-4883-9845-84dd150bccca"
      },
      "outputs": [
        {
          "data": {
            "text/html": [
              "<div>\n",
              "<style scoped>\n",
              "    .dataframe tbody tr th:only-of-type {\n",
              "        vertical-align: middle;\n",
              "    }\n",
              "\n",
              "    .dataframe tbody tr th {\n",
              "        vertical-align: top;\n",
              "    }\n",
              "\n",
              "    .dataframe thead th {\n",
              "        text-align: right;\n",
              "    }\n",
              "</style>\n",
              "<table border=\"1\" class=\"dataframe\">\n",
              "  <thead>\n",
              "    <tr style=\"text-align: right;\">\n",
              "      <th></th>\n",
              "      <th>HouseAge</th>\n",
              "      <th>YrSold</th>\n",
              "      <th>YearBuilt</th>\n",
              "    </tr>\n",
              "  </thead>\n",
              "  <tbody>\n",
              "    <tr>\n",
              "      <th>0</th>\n",
              "      <td>5</td>\n",
              "      <td>2008</td>\n",
              "      <td>2003</td>\n",
              "    </tr>\n",
              "    <tr>\n",
              "      <th>1</th>\n",
              "      <td>31</td>\n",
              "      <td>2007</td>\n",
              "      <td>1976</td>\n",
              "    </tr>\n",
              "    <tr>\n",
              "      <th>2</th>\n",
              "      <td>7</td>\n",
              "      <td>2008</td>\n",
              "      <td>2001</td>\n",
              "    </tr>\n",
              "    <tr>\n",
              "      <th>3</th>\n",
              "      <td>91</td>\n",
              "      <td>2006</td>\n",
              "      <td>1915</td>\n",
              "    </tr>\n",
              "    <tr>\n",
              "      <th>4</th>\n",
              "      <td>8</td>\n",
              "      <td>2008</td>\n",
              "      <td>2000</td>\n",
              "    </tr>\n",
              "    <tr>\n",
              "      <th>...</th>\n",
              "      <td>...</td>\n",
              "      <td>...</td>\n",
              "      <td>...</td>\n",
              "    </tr>\n",
              "    <tr>\n",
              "      <th>1455</th>\n",
              "      <td>8</td>\n",
              "      <td>2007</td>\n",
              "      <td>1999</td>\n",
              "    </tr>\n",
              "    <tr>\n",
              "      <th>1456</th>\n",
              "      <td>32</td>\n",
              "      <td>2010</td>\n",
              "      <td>1978</td>\n",
              "    </tr>\n",
              "    <tr>\n",
              "      <th>1457</th>\n",
              "      <td>69</td>\n",
              "      <td>2010</td>\n",
              "      <td>1941</td>\n",
              "    </tr>\n",
              "    <tr>\n",
              "      <th>1458</th>\n",
              "      <td>60</td>\n",
              "      <td>2010</td>\n",
              "      <td>1950</td>\n",
              "    </tr>\n",
              "    <tr>\n",
              "      <th>1459</th>\n",
              "      <td>43</td>\n",
              "      <td>2008</td>\n",
              "      <td>1965</td>\n",
              "    </tr>\n",
              "  </tbody>\n",
              "</table>\n",
              "<p>1460 rows × 3 columns</p>\n",
              "</div>"
            ],
            "text/plain": [
              "      HouseAge  YrSold  YearBuilt\n",
              "0            5    2008       2003\n",
              "1           31    2007       1976\n",
              "2            7    2008       2001\n",
              "3           91    2006       1915\n",
              "4            8    2008       2000\n",
              "...        ...     ...        ...\n",
              "1455         8    2007       1999\n",
              "1456        32    2010       1978\n",
              "1457        69    2010       1941\n",
              "1458        60    2010       1950\n",
              "1459        43    2008       1965\n",
              "\n",
              "[1460 rows x 3 columns]"
            ]
          },
          "execution_count": 1170,
          "metadata": {},
          "output_type": "execute_result"
        }
      ],
      "source": [
        "df_train[['HouseAge', 'YrSold', 'YearBuilt']]"
      ]
    },
    {
      "cell_type": "code",
      "execution_count": 1171,
      "metadata": {
        "colab": {
          "base_uri": "https://localhost:8080/"
        },
        "id": "g-k0aDz8j88U",
        "outputId": "ea50ddc8-129c-4dab-cf1b-51d2fd99894a"
      },
      "outputs": [
        {
          "name": "stdout",
          "output_type": "stream",
          "text": [
            "<class 'pandas.core.frame.DataFrame'>\n",
            "RangeIndex: 1460 entries, 0 to 1459\n",
            "Data columns (total 83 columns):\n",
            " #   Column         Non-Null Count  Dtype  \n",
            "---  ------         --------------  -----  \n",
            " 0   Id             1460 non-null   int64  \n",
            " 1   MSSubClass     1460 non-null   int64  \n",
            " 2   MSZoning       1460 non-null   object \n",
            " 3   LotFrontage    1201 non-null   float64\n",
            " 4   LotArea        1460 non-null   int64  \n",
            " 5   Street         1460 non-null   object \n",
            " 6   Alley          91 non-null     object \n",
            " 7   LotShape       1460 non-null   object \n",
            " 8   LandContour    1460 non-null   object \n",
            " 9   Utilities      1460 non-null   object \n",
            " 10  LotConfig      1460 non-null   object \n",
            " 11  LandSlope      1460 non-null   object \n",
            " 12  Neighborhood   1460 non-null   object \n",
            " 13  Condition1     1460 non-null   object \n",
            " 14  Condition2     1460 non-null   object \n",
            " 15  BldgType       1460 non-null   object \n",
            " 16  HouseStyle     1460 non-null   object \n",
            " 17  OverallQual    1460 non-null   int64  \n",
            " 18  OverallCond    1460 non-null   int64  \n",
            " 19  YearBuilt      1460 non-null   int64  \n",
            " 20  YearRemodAdd   1460 non-null   int64  \n",
            " 21  RoofStyle      1460 non-null   object \n",
            " 22  RoofMatl       1460 non-null   object \n",
            " 23  Exterior1st    1460 non-null   object \n",
            " 24  Exterior2nd    1460 non-null   object \n",
            " 25  MasVnrType     1452 non-null   object \n",
            " 26  MasVnrArea     1452 non-null   float64\n",
            " 27  ExterQual      1460 non-null   object \n",
            " 28  ExterCond      1460 non-null   object \n",
            " 29  Foundation     1460 non-null   object \n",
            " 30  BsmtQual       1423 non-null   object \n",
            " 31  BsmtCond       1423 non-null   object \n",
            " 32  BsmtExposure   1422 non-null   object \n",
            " 33  BsmtFinType1   1423 non-null   object \n",
            " 34  BsmtFinSF1     1460 non-null   int64  \n",
            " 35  BsmtFinType2   1422 non-null   object \n",
            " 36  BsmtFinSF2     1460 non-null   int64  \n",
            " 37  BsmtUnfSF      1460 non-null   int64  \n",
            " 38  TotalBsmtSF    1460 non-null   int64  \n",
            " 39  Heating        1460 non-null   object \n",
            " 40  HeatingQC      1460 non-null   object \n",
            " 41  CentralAir     1460 non-null   object \n",
            " 42  Electrical     1459 non-null   object \n",
            " 43  1stFlrSF       1460 non-null   int64  \n",
            " 44  2ndFlrSF       1460 non-null   int64  \n",
            " 45  LowQualFinSF   1460 non-null   int64  \n",
            " 46  GrLivArea      1460 non-null   int64  \n",
            " 47  BsmtFullBath   1460 non-null   int64  \n",
            " 48  BsmtHalfBath   1460 non-null   int64  \n",
            " 49  FullBath       1460 non-null   int64  \n",
            " 50  HalfBath       1460 non-null   int64  \n",
            " 51  BedroomAbvGr   1460 non-null   int64  \n",
            " 52  KitchenAbvGr   1460 non-null   int64  \n",
            " 53  KitchenQual    1460 non-null   object \n",
            " 54  TotRmsAbvGrd   1460 non-null   int64  \n",
            " 55  Functional     1460 non-null   object \n",
            " 56  Fireplaces     1460 non-null   int64  \n",
            " 57  FireplaceQu    770 non-null    object \n",
            " 58  GarageType     1379 non-null   object \n",
            " 59  GarageYrBlt    1379 non-null   float64\n",
            " 60  GarageFinish   1379 non-null   object \n",
            " 61  GarageCars     1460 non-null   int64  \n",
            " 62  GarageArea     1460 non-null   int64  \n",
            " 63  GarageQual     1379 non-null   object \n",
            " 64  GarageCond     1379 non-null   object \n",
            " 65  PavedDrive     1460 non-null   object \n",
            " 66  WoodDeckSF     1460 non-null   int64  \n",
            " 67  OpenPorchSF    1460 non-null   int64  \n",
            " 68  EnclosedPorch  1460 non-null   int64  \n",
            " 69  3SsnPorch      1460 non-null   int64  \n",
            " 70  ScreenPorch    1460 non-null   int64  \n",
            " 71  PoolArea       1460 non-null   int64  \n",
            " 72  PoolQC         7 non-null      object \n",
            " 73  Fence          281 non-null    object \n",
            " 74  MiscFeature    54 non-null     object \n",
            " 75  MiscVal        1460 non-null   int64  \n",
            " 76  MoSold         1460 non-null   object \n",
            " 77  YrSold         1460 non-null   int32  \n",
            " 78  SaleType       1460 non-null   object \n",
            " 79  SaleCondition  1460 non-null   object \n",
            " 80  SalePrice      1460 non-null   int64  \n",
            " 81  TimeSold       1460 non-null   object \n",
            " 82  HouseAge       1460 non-null   int64  \n",
            "dtypes: float64(3), int32(1), int64(34), object(45)\n",
            "memory usage: 941.1+ KB\n"
          ]
        }
      ],
      "source": [
        "df_train.info()"
      ]
    },
    {
      "cell_type": "code",
      "execution_count": 1172,
      "metadata": {
        "colab": {
          "base_uri": "https://localhost:8080/"
        },
        "id": "O2_L-6weSG6x",
        "outputId": "21886800-c06f-4438-e189-0e6769b07270"
      },
      "outputs": [
        {
          "data": {
            "text/plain": [
              "Index(['Id', 'MSSubClass', 'MSZoning', 'LotFrontage', 'LotArea', 'Street',\n",
              "       'Alley', 'LotShape', 'LandContour', 'Utilities', 'LotConfig',\n",
              "       'LandSlope', 'Neighborhood', 'Condition1', 'Condition2', 'BldgType',\n",
              "       'HouseStyle', 'OverallQual', 'OverallCond', 'YearBuilt', 'YearRemodAdd',\n",
              "       'RoofStyle', 'RoofMatl', 'Exterior1st', 'Exterior2nd', 'MasVnrType',\n",
              "       'MasVnrArea', 'ExterQual', 'ExterCond', 'Foundation', 'BsmtQual',\n",
              "       'BsmtCond', 'BsmtExposure', 'BsmtFinType1', 'BsmtFinSF1',\n",
              "       'BsmtFinType2', 'BsmtFinSF2', 'BsmtUnfSF', 'TotalBsmtSF', 'Heating',\n",
              "       'HeatingQC', 'CentralAir', 'Electrical', '1stFlrSF', '2ndFlrSF',\n",
              "       'LowQualFinSF', 'GrLivArea', 'BsmtFullBath', 'BsmtHalfBath', 'FullBath',\n",
              "       'HalfBath', 'BedroomAbvGr', 'KitchenAbvGr', 'KitchenQual',\n",
              "       'TotRmsAbvGrd', 'Functional', 'Fireplaces', 'FireplaceQu', 'GarageType',\n",
              "       'GarageYrBlt', 'GarageFinish', 'GarageCars', 'GarageArea', 'GarageQual',\n",
              "       'GarageCond', 'PavedDrive', 'WoodDeckSF', 'OpenPorchSF',\n",
              "       'EnclosedPorch', '3SsnPorch', 'ScreenPorch', 'PoolArea', 'PoolQC',\n",
              "       'Fence', 'MiscFeature', 'MiscVal', 'MoSold', 'YrSold', 'SaleType',\n",
              "       'SaleCondition', 'SalePrice', 'TimeSold', 'HouseAge'],\n",
              "      dtype='object')"
            ]
          },
          "execution_count": 1172,
          "metadata": {},
          "output_type": "execute_result"
        }
      ],
      "source": [
        "df_train.columns"
      ]
    },
    {
      "cell_type": "markdown",
      "metadata": {
        "id": "I-ANYnBfRlnj"
      },
      "source": [
        "# Data Preprocessing\n",
        "1. Fill Missing Values\n",
        "2. Remove Duplicate\n",
        "3. Resolve Incositencies\n",
        "4. Remove Outliers\n",
        "5. Remove Unecessary \n",
        "6. Feature Encoding\n",
        "7. Feature Selection\n",
        "8. Feature Scaling"
      ]
    },
    {
      "cell_type": "markdown",
      "metadata": {
        "id": "WIszhyg8gbcP"
      },
      "source": [
        "# Spliting Features and Target Variable"
      ]
    },
    {
      "cell_type": "code",
      "execution_count": 1173,
      "metadata": {
        "id": "GaLZrbIq2g4j"
      },
      "outputs": [],
      "source": [
        "#Memindahkan Target Variable ke column paling terakhir\n",
        "column_to_move = df_train.pop(\"SalePrice\")\n",
        "df_train.insert(82, 'SalePrice', column_to_move)"
      ]
    },
    {
      "cell_type": "code",
      "execution_count": 1174,
      "metadata": {
        "colab": {
          "base_uri": "https://localhost:8080/"
        },
        "id": "yozHSPW3T22W",
        "outputId": "8c6aca30-cf41-4838-c255-f604046ae9ff"
      },
      "outputs": [
        {
          "data": {
            "text/plain": [
              "Index(['Id', 'MSSubClass', 'MSZoning', 'LotFrontage', 'LotArea', 'Street',\n",
              "       'Alley', 'LotShape', 'LandContour', 'Utilities', 'LotConfig',\n",
              "       'LandSlope', 'Neighborhood', 'Condition1', 'Condition2', 'BldgType',\n",
              "       'HouseStyle', 'OverallQual', 'OverallCond', 'YearBuilt', 'YearRemodAdd',\n",
              "       'RoofStyle', 'RoofMatl', 'Exterior1st', 'Exterior2nd', 'MasVnrType',\n",
              "       'MasVnrArea', 'ExterQual', 'ExterCond', 'Foundation', 'BsmtQual',\n",
              "       'BsmtCond', 'BsmtExposure', 'BsmtFinType1', 'BsmtFinSF1',\n",
              "       'BsmtFinType2', 'BsmtFinSF2', 'BsmtUnfSF', 'TotalBsmtSF', 'Heating',\n",
              "       'HeatingQC', 'CentralAir', 'Electrical', '1stFlrSF', '2ndFlrSF',\n",
              "       'LowQualFinSF', 'GrLivArea', 'BsmtFullBath', 'BsmtHalfBath', 'FullBath',\n",
              "       'HalfBath', 'BedroomAbvGr', 'KitchenAbvGr', 'KitchenQual',\n",
              "       'TotRmsAbvGrd', 'Functional', 'Fireplaces', 'FireplaceQu', 'GarageType',\n",
              "       'GarageYrBlt', 'GarageFinish', 'GarageCars', 'GarageArea', 'GarageQual',\n",
              "       'GarageCond', 'PavedDrive', 'WoodDeckSF', 'OpenPorchSF',\n",
              "       'EnclosedPorch', '3SsnPorch', 'ScreenPorch', 'PoolArea', 'PoolQC',\n",
              "       'Fence', 'MiscFeature', 'MiscVal', 'MoSold', 'YrSold', 'SaleType',\n",
              "       'SaleCondition', 'TimeSold', 'HouseAge', 'SalePrice'],\n",
              "      dtype='object')"
            ]
          },
          "execution_count": 1174,
          "metadata": {},
          "output_type": "execute_result"
        }
      ],
      "source": [
        "df_train.columns"
      ]
    },
    {
      "cell_type": "code",
      "execution_count": 1175,
      "metadata": {
        "id": "9wa7EhR1YAl3"
      },
      "outputs": [],
      "source": [
        "X = df_train.iloc[:, :-1]\n",
        "y = df_train.iloc[:, -1]"
      ]
    },
    {
      "cell_type": "markdown",
      "metadata": {
        "id": "oNLPwM5DhzGQ"
      },
      "source": [
        "## 1. Removing Redundant Variables "
      ]
    },
    {
      "cell_type": "code",
      "execution_count": 1176,
      "metadata": {
        "id": "eTZ1bZ_lyMGY"
      },
      "outputs": [],
      "source": [
        "#Remove Id \n",
        "X=X.drop(columns=['Id'])"
      ]
    },
    {
      "cell_type": "code",
      "execution_count": 1177,
      "metadata": {
        "id": "-7_myOKvkKmG"
      },
      "outputs": [],
      "source": [
        "#Remove MoSold and YrSold because we already created new features called TimeSold\n",
        "X=X.drop(columns=['MoSold', 'YrSold'])"
      ]
    },
    {
      "cell_type": "code",
      "execution_count": 1178,
      "metadata": {
        "id": "X77R0TRcyRVN"
      },
      "outputs": [],
      "source": [
        "# Semua feature ini ['BsmtFullBath', 'BsmtHalfBath', 'FullBath', 'HalfBath', 'BedroomAbvGr', 'KitchenAbvGr'] jika dijumlahkan hasilnya sama dengan TotRmsAbvGrd\n",
        "# So we decide to remove ['BsmtFullBath', 'BsmtHalfBath', 'FullBath', 'HalfBath', 'BedroomAbvGr', 'KitchenAbvGr']\n",
        "X.drop(['BsmtFullBath', 'BsmtHalfBath', 'FullBath', 'HalfBath', 'BedroomAbvGr', 'KitchenAbvGr',\"TimeSold\"], axis=1, inplace=True)"
      ]
    },
    {
      "cell_type": "code",
      "execution_count": 1179,
      "metadata": {
        "colab": {
          "base_uri": "https://localhost:8080/"
        },
        "id": "TiHvAKvKzKgy",
        "outputId": "83631b79-9bc8-4689-ab43-2b9196c597a2"
      },
      "outputs": [
        {
          "data": {
            "text/plain": [
              "True     1320\n",
              "False     140\n",
              "dtype: int64"
            ]
          },
          "execution_count": 1179,
          "metadata": {},
          "output_type": "execute_result"
        }
      ],
      "source": [
        "#From the comparison we know that most of the GarageCond and GarageQuals is the same, for example if the Garage Conditionnya is Excellent then GarageQualnya is Excellent too.\n",
        "#So we decide to choose only one which is GarageQual.\n",
        "comparison = X['GarageCond'] == X['GarageQual']\n",
        "comparison.value_counts()"
      ]
    },
    {
      "cell_type": "code",
      "execution_count": 1180,
      "metadata": {
        "id": "IiKoT8Cw0M0g"
      },
      "outputs": [],
      "source": [
        "X.drop(['GarageCond'], axis=1, inplace=True)"
      ]
    },
    {
      "cell_type": "code",
      "execution_count": 1181,
      "metadata": {
        "colab": {
          "base_uri": "https://localhost:8080/"
        },
        "id": "zi5hDFxGwRoL",
        "outputId": "cc971164-dfa8-48a9-dd47-ca2e08502346"
      },
      "outputs": [
        {
          "data": {
            "text/plain": [
              "(1460, 71)"
            ]
          },
          "execution_count": 1181,
          "metadata": {},
          "output_type": "execute_result"
        }
      ],
      "source": [
        "X.shape"
      ]
    },
    {
      "cell_type": "code",
      "execution_count": 1182,
      "metadata": {
        "id": "UXiVbD-ABzDl"
      },
      "outputs": [],
      "source": [
        "# X.drop(X.loc[X['Utilities'].isin([\"NoSeWa\"])].index, inplace=True)\n",
        "# X.drop(X.loc[X['Condition2'].isin([\"PosA\",\"RRAn\",'RRAe'])].index, inplace=True)\n",
        "# X.drop(X.loc[X['HouseStyle'].isin([\"2.5Fin\"])].index, inplace=True)\n",
        "# X.drop(X.loc[X['RoofMatl'].isin([\"Metal\",\"Membran\",\"Roll\",'ClyTile'])].index, inplace=True)\n",
        "# X.drop(X.loc[X['Exterior1st'].isin([\"ImStucc\"])].index, inplace=True)\n",
        "# X.drop(X.loc[X['Heating'].isin([\"OthW\",\"Floor\"])].index, inplace=True)\n",
        "# X.drop(X.loc[X['Electrical'].isin([\"Mix\"])].index, inplace=True)"
      ]
    },
    {
      "cell_type": "markdown",
      "metadata": {
        "id": "sJShHR_EuqaF"
      },
      "source": [
        "## Check Missing Value"
      ]
    },
    {
      "cell_type": "markdown",
      "metadata": {
        "id": "9aZFaueH0j3K"
      },
      "source": [
        "  ### Before"
      ]
    },
    {
      "cell_type": "code",
      "execution_count": 1183,
      "metadata": {
        "colab": {
          "base_uri": "https://localhost:8080/"
        },
        "id": "vtGBbg2C1OGw",
        "outputId": "a2990391-abd0-4b85-ce51-3e856e627d06"
      },
      "outputs": [
        {
          "name": "stdout",
          "output_type": "stream",
          "text": [
            "<class 'pandas.core.frame.DataFrame'>\n",
            "RangeIndex: 1460 entries, 0 to 1459\n",
            "Data columns (total 71 columns):\n",
            " #   Column         Non-Null Count  Dtype  \n",
            "---  ------         --------------  -----  \n",
            " 0   MSSubClass     1460 non-null   int64  \n",
            " 1   MSZoning       1460 non-null   object \n",
            " 2   LotFrontage    1201 non-null   float64\n",
            " 3   LotArea        1460 non-null   int64  \n",
            " 4   Street         1460 non-null   object \n",
            " 5   Alley          91 non-null     object \n",
            " 6   LotShape       1460 non-null   object \n",
            " 7   LandContour    1460 non-null   object \n",
            " 8   Utilities      1460 non-null   object \n",
            " 9   LotConfig      1460 non-null   object \n",
            " 10  LandSlope      1460 non-null   object \n",
            " 11  Neighborhood   1460 non-null   object \n",
            " 12  Condition1     1460 non-null   object \n",
            " 13  Condition2     1460 non-null   object \n",
            " 14  BldgType       1460 non-null   object \n",
            " 15  HouseStyle     1460 non-null   object \n",
            " 16  OverallQual    1460 non-null   int64  \n",
            " 17  OverallCond    1460 non-null   int64  \n",
            " 18  YearBuilt      1460 non-null   int64  \n",
            " 19  YearRemodAdd   1460 non-null   int64  \n",
            " 20  RoofStyle      1460 non-null   object \n",
            " 21  RoofMatl       1460 non-null   object \n",
            " 22  Exterior1st    1460 non-null   object \n",
            " 23  Exterior2nd    1460 non-null   object \n",
            " 24  MasVnrType     1452 non-null   object \n",
            " 25  MasVnrArea     1452 non-null   float64\n",
            " 26  ExterQual      1460 non-null   object \n",
            " 27  ExterCond      1460 non-null   object \n",
            " 28  Foundation     1460 non-null   object \n",
            " 29  BsmtQual       1423 non-null   object \n",
            " 30  BsmtCond       1423 non-null   object \n",
            " 31  BsmtExposure   1422 non-null   object \n",
            " 32  BsmtFinType1   1423 non-null   object \n",
            " 33  BsmtFinSF1     1460 non-null   int64  \n",
            " 34  BsmtFinType2   1422 non-null   object \n",
            " 35  BsmtFinSF2     1460 non-null   int64  \n",
            " 36  BsmtUnfSF      1460 non-null   int64  \n",
            " 37  TotalBsmtSF    1460 non-null   int64  \n",
            " 38  Heating        1460 non-null   object \n",
            " 39  HeatingQC      1460 non-null   object \n",
            " 40  CentralAir     1460 non-null   object \n",
            " 41  Electrical     1459 non-null   object \n",
            " 42  1stFlrSF       1460 non-null   int64  \n",
            " 43  2ndFlrSF       1460 non-null   int64  \n",
            " 44  LowQualFinSF   1460 non-null   int64  \n",
            " 45  GrLivArea      1460 non-null   int64  \n",
            " 46  KitchenQual    1460 non-null   object \n",
            " 47  TotRmsAbvGrd   1460 non-null   int64  \n",
            " 48  Functional     1460 non-null   object \n",
            " 49  Fireplaces     1460 non-null   int64  \n",
            " 50  FireplaceQu    770 non-null    object \n",
            " 51  GarageType     1379 non-null   object \n",
            " 52  GarageYrBlt    1379 non-null   float64\n",
            " 53  GarageFinish   1379 non-null   object \n",
            " 54  GarageCars     1460 non-null   int64  \n",
            " 55  GarageArea     1460 non-null   int64  \n",
            " 56  GarageQual     1379 non-null   object \n",
            " 57  PavedDrive     1460 non-null   object \n",
            " 58  WoodDeckSF     1460 non-null   int64  \n",
            " 59  OpenPorchSF    1460 non-null   int64  \n",
            " 60  EnclosedPorch  1460 non-null   int64  \n",
            " 61  3SsnPorch      1460 non-null   int64  \n",
            " 62  ScreenPorch    1460 non-null   int64  \n",
            " 63  PoolArea       1460 non-null   int64  \n",
            " 64  PoolQC         7 non-null      object \n",
            " 65  Fence          281 non-null    object \n",
            " 66  MiscFeature    54 non-null     object \n",
            " 67  MiscVal        1460 non-null   int64  \n",
            " 68  SaleType       1460 non-null   object \n",
            " 69  SaleCondition  1460 non-null   object \n",
            " 70  HouseAge       1460 non-null   int64  \n",
            "dtypes: float64(3), int64(26), object(42)\n",
            "memory usage: 810.0+ KB\n"
          ]
        }
      ],
      "source": [
        "X.info()"
      ]
    },
    {
      "cell_type": "code",
      "execution_count": 1184,
      "metadata": {
        "colab": {
          "base_uri": "https://localhost:8080/"
        },
        "id": "whA2t9bSurni",
        "outputId": "3280737c-76c1-4470-c68b-cf8e1b3c0736"
      },
      "outputs": [
        {
          "name": "stdout",
          "output_type": "stream",
          "text": [
            "MSSubClass missing values: 0\n",
            "MSZoning missing values: 0\n",
            "LotFrontage missing values: 259\n",
            "LotArea missing values: 0\n",
            "Street missing values: 0\n",
            "Alley missing values: 1369\n",
            "LotShape missing values: 0\n",
            "LandContour missing values: 0\n",
            "Utilities missing values: 0\n",
            "LotConfig missing values: 0\n",
            "LandSlope missing values: 0\n",
            "Neighborhood missing values: 0\n",
            "Condition1 missing values: 0\n",
            "Condition2 missing values: 0\n",
            "BldgType missing values: 0\n",
            "HouseStyle missing values: 0\n",
            "OverallQual missing values: 0\n",
            "OverallCond missing values: 0\n",
            "YearBuilt missing values: 0\n",
            "YearRemodAdd missing values: 0\n",
            "RoofStyle missing values: 0\n",
            "RoofMatl missing values: 0\n",
            "Exterior1st missing values: 0\n",
            "Exterior2nd missing values: 0\n",
            "MasVnrType missing values: 8\n",
            "MasVnrArea missing values: 8\n",
            "ExterQual missing values: 0\n",
            "ExterCond missing values: 0\n",
            "Foundation missing values: 0\n",
            "BsmtQual missing values: 37\n",
            "BsmtCond missing values: 37\n",
            "BsmtExposure missing values: 38\n",
            "BsmtFinType1 missing values: 37\n",
            "BsmtFinSF1 missing values: 0\n",
            "BsmtFinType2 missing values: 38\n",
            "BsmtFinSF2 missing values: 0\n",
            "BsmtUnfSF missing values: 0\n",
            "TotalBsmtSF missing values: 0\n",
            "Heating missing values: 0\n",
            "HeatingQC missing values: 0\n",
            "CentralAir missing values: 0\n",
            "Electrical missing values: 1\n",
            "1stFlrSF missing values: 0\n",
            "2ndFlrSF missing values: 0\n",
            "LowQualFinSF missing values: 0\n",
            "GrLivArea missing values: 0\n",
            "KitchenQual missing values: 0\n",
            "TotRmsAbvGrd missing values: 0\n",
            "Functional missing values: 0\n",
            "Fireplaces missing values: 0\n",
            "FireplaceQu missing values: 690\n",
            "GarageType missing values: 81\n",
            "GarageYrBlt missing values: 81\n",
            "GarageFinish missing values: 81\n",
            "GarageCars missing values: 0\n",
            "GarageArea missing values: 0\n",
            "GarageQual missing values: 81\n",
            "PavedDrive missing values: 0\n",
            "WoodDeckSF missing values: 0\n",
            "OpenPorchSF missing values: 0\n",
            "EnclosedPorch missing values: 0\n",
            "3SsnPorch missing values: 0\n",
            "ScreenPorch missing values: 0\n",
            "PoolArea missing values: 0\n",
            "PoolQC missing values: 1453\n",
            "Fence missing values: 1179\n",
            "MiscFeature missing values: 1406\n",
            "MiscVal missing values: 0\n",
            "SaleType missing values: 0\n",
            "SaleCondition missing values: 0\n",
            "HouseAge missing values: 0\n"
          ]
        }
      ],
      "source": [
        "for col in X.columns:\n",
        "  missing_values = X[col].isna().sum()\n",
        "  print(f\"{col} missing values: {missing_values}\")"
      ]
    },
    {
      "cell_type": "code",
      "execution_count": 1185,
      "metadata": {
        "id": "FCSsr9csW4Cx"
      },
      "outputs": [],
      "source": [
        "#Drop missing values that are above 80% from all data\n",
        "X.drop(columns=['Alley', 'PoolQC', 'Fence', 'MiscFeature'], axis=1, inplace=True)"
      ]
    },
    {
      "cell_type": "code",
      "execution_count": 1186,
      "metadata": {
        "colab": {
          "base_uri": "https://localhost:8080/"
        },
        "id": "Lt7Rbr4MXVMW",
        "outputId": "80cd50b6-e088-43a7-e888-eea01a4dbdf3"
      },
      "outputs": [
        {
          "data": {
            "text/plain": [
              "(1460, 67)"
            ]
          },
          "execution_count": 1186,
          "metadata": {},
          "output_type": "execute_result"
        }
      ],
      "source": [
        "X.shape"
      ]
    },
    {
      "cell_type": "code",
      "execution_count": 1187,
      "metadata": {
        "id": "n3r2F6LkXWUN"
      },
      "outputs": [],
      "source": [
        "values = {'BsmtQual':'No Basement', \n",
        "           'BsmtCond':'No Basement', \n",
        "            'BsmtExposure': 'No Basement',\n",
        "           'BsmtFinType1': 'No Basement',\n",
        "           'BsmtFinType2': 'No Basement',\n",
        "           'FireplaceQu': 'No Fireplace',\n",
        "           'GarageType': 'No Garage',\n",
        "           'GarageFinish': 'No Garage',\n",
        "          'GarageQual': 'No Garage',\n",
        "          'GarageCond':'No Garage'\n",
        "          }\n",
        "X.fillna(value=values, inplace=True)"
      ]
    },
    {
      "cell_type": "code",
      "execution_count": 1188,
      "metadata": {
        "id": "rbhO-oP6iNHO"
      },
      "outputs": [],
      "source": [
        "X[\"MasVnrArea\"]=X[\"MasVnrArea\"].fillna(df_train[\"MasVnrArea\"].mean(), axis=0)\n",
        "X[\"LotFrontage\"]=X[\"LotFrontage\"].fillna(df_train[\"LotFrontage\"].mean(), axis=0)\n",
        "X[\"GarageYrBlt\"]=X[\"GarageYrBlt\"].fillna(1980, axis=0)\n",
        "X[\"Electrical\"]=X[\"Electrical\"].fillna('SBrkr', axis=0)\n",
        "X[\"MasVnrType\"]=X[\"MasVnrType\"].fillna('None', axis=0)"
      ]
    },
    {
      "cell_type": "markdown",
      "metadata": {
        "id": "_PbiJu8H0qi1"
      },
      "source": [
        "### After"
      ]
    },
    {
      "cell_type": "code",
      "execution_count": 1189,
      "metadata": {
        "colab": {
          "base_uri": "https://localhost:8080/"
        },
        "id": "wrUWqqJMd8oB",
        "outputId": "c57dd3af-91c0-487f-9185-ce35db86e262"
      },
      "outputs": [
        {
          "name": "stdout",
          "output_type": "stream",
          "text": [
            "MSSubClass missing values: 0\n",
            "MSZoning missing values: 0\n",
            "LotFrontage missing values: 0\n",
            "LotArea missing values: 0\n",
            "Street missing values: 0\n",
            "LotShape missing values: 0\n",
            "LandContour missing values: 0\n",
            "Utilities missing values: 0\n",
            "LotConfig missing values: 0\n",
            "LandSlope missing values: 0\n",
            "Neighborhood missing values: 0\n",
            "Condition1 missing values: 0\n",
            "Condition2 missing values: 0\n",
            "BldgType missing values: 0\n",
            "HouseStyle missing values: 0\n",
            "OverallQual missing values: 0\n",
            "OverallCond missing values: 0\n",
            "YearBuilt missing values: 0\n",
            "YearRemodAdd missing values: 0\n",
            "RoofStyle missing values: 0\n",
            "RoofMatl missing values: 0\n",
            "Exterior1st missing values: 0\n",
            "Exterior2nd missing values: 0\n",
            "MasVnrType missing values: 0\n",
            "MasVnrArea missing values: 0\n",
            "ExterQual missing values: 0\n",
            "ExterCond missing values: 0\n",
            "Foundation missing values: 0\n",
            "BsmtQual missing values: 0\n",
            "BsmtCond missing values: 0\n",
            "BsmtExposure missing values: 0\n",
            "BsmtFinType1 missing values: 0\n",
            "BsmtFinSF1 missing values: 0\n",
            "BsmtFinType2 missing values: 0\n",
            "BsmtFinSF2 missing values: 0\n",
            "BsmtUnfSF missing values: 0\n",
            "TotalBsmtSF missing values: 0\n",
            "Heating missing values: 0\n",
            "HeatingQC missing values: 0\n",
            "CentralAir missing values: 0\n",
            "Electrical missing values: 0\n",
            "1stFlrSF missing values: 0\n",
            "2ndFlrSF missing values: 0\n",
            "LowQualFinSF missing values: 0\n",
            "GrLivArea missing values: 0\n",
            "KitchenQual missing values: 0\n",
            "TotRmsAbvGrd missing values: 0\n",
            "Functional missing values: 0\n",
            "Fireplaces missing values: 0\n",
            "FireplaceQu missing values: 0\n",
            "GarageType missing values: 0\n",
            "GarageYrBlt missing values: 0\n",
            "GarageFinish missing values: 0\n",
            "GarageCars missing values: 0\n",
            "GarageArea missing values: 0\n",
            "GarageQual missing values: 0\n",
            "PavedDrive missing values: 0\n",
            "WoodDeckSF missing values: 0\n",
            "OpenPorchSF missing values: 0\n",
            "EnclosedPorch missing values: 0\n",
            "3SsnPorch missing values: 0\n",
            "ScreenPorch missing values: 0\n",
            "PoolArea missing values: 0\n",
            "MiscVal missing values: 0\n",
            "SaleType missing values: 0\n",
            "SaleCondition missing values: 0\n",
            "HouseAge missing values: 0\n"
          ]
        }
      ],
      "source": [
        "for col in X.columns:\n",
        "  missing_values = X[col].isna().sum()\n",
        "  print(f\"{col} missing values: {missing_values}\")"
      ]
    },
    {
      "cell_type": "markdown",
      "metadata": {
        "id": "tP1H5fmBvZh8"
      },
      "source": [
        "## Spliting Data Into Numerical dan Categorical "
      ]
    },
    {
      "cell_type": "code",
      "execution_count": 1190,
      "metadata": {
        "id": "E0eiLgwUq6Vq"
      },
      "outputs": [],
      "source": [
        "numerics = ['int8','int16', 'int32', 'int64', 'float16', 'float32', 'float64']\n",
        "categorical=[\"object\"]\n",
        "\n",
        "data_num = X.select_dtypes(include=numerics)\n",
        "data_cat = X.select_dtypes(include=categorical) "
      ]
    },
    {
      "cell_type": "code",
      "execution_count": 1191,
      "metadata": {
        "colab": {
          "base_uri": "https://localhost:8080/",
          "height": 424
        },
        "id": "3euzD9ASk4LK",
        "outputId": "4907b1f6-5364-4395-f4d4-2580a0ddd78b"
      },
      "outputs": [
        {
          "data": {
            "text/html": [
              "<div>\n",
              "<style scoped>\n",
              "    .dataframe tbody tr th:only-of-type {\n",
              "        vertical-align: middle;\n",
              "    }\n",
              "\n",
              "    .dataframe tbody tr th {\n",
              "        vertical-align: top;\n",
              "    }\n",
              "\n",
              "    .dataframe thead th {\n",
              "        text-align: right;\n",
              "    }\n",
              "</style>\n",
              "<table border=\"1\" class=\"dataframe\">\n",
              "  <thead>\n",
              "    <tr style=\"text-align: right;\">\n",
              "      <th></th>\n",
              "      <th>MSSubClass</th>\n",
              "      <th>OverallQual</th>\n",
              "      <th>OverallCond</th>\n",
              "    </tr>\n",
              "  </thead>\n",
              "  <tbody>\n",
              "    <tr>\n",
              "      <th>0</th>\n",
              "      <td>60</td>\n",
              "      <td>7</td>\n",
              "      <td>5</td>\n",
              "    </tr>\n",
              "    <tr>\n",
              "      <th>1</th>\n",
              "      <td>20</td>\n",
              "      <td>6</td>\n",
              "      <td>8</td>\n",
              "    </tr>\n",
              "    <tr>\n",
              "      <th>2</th>\n",
              "      <td>60</td>\n",
              "      <td>7</td>\n",
              "      <td>5</td>\n",
              "    </tr>\n",
              "    <tr>\n",
              "      <th>3</th>\n",
              "      <td>70</td>\n",
              "      <td>7</td>\n",
              "      <td>5</td>\n",
              "    </tr>\n",
              "    <tr>\n",
              "      <th>4</th>\n",
              "      <td>60</td>\n",
              "      <td>8</td>\n",
              "      <td>5</td>\n",
              "    </tr>\n",
              "    <tr>\n",
              "      <th>...</th>\n",
              "      <td>...</td>\n",
              "      <td>...</td>\n",
              "      <td>...</td>\n",
              "    </tr>\n",
              "    <tr>\n",
              "      <th>1455</th>\n",
              "      <td>60</td>\n",
              "      <td>6</td>\n",
              "      <td>5</td>\n",
              "    </tr>\n",
              "    <tr>\n",
              "      <th>1456</th>\n",
              "      <td>20</td>\n",
              "      <td>6</td>\n",
              "      <td>6</td>\n",
              "    </tr>\n",
              "    <tr>\n",
              "      <th>1457</th>\n",
              "      <td>70</td>\n",
              "      <td>7</td>\n",
              "      <td>9</td>\n",
              "    </tr>\n",
              "    <tr>\n",
              "      <th>1458</th>\n",
              "      <td>20</td>\n",
              "      <td>5</td>\n",
              "      <td>6</td>\n",
              "    </tr>\n",
              "    <tr>\n",
              "      <th>1459</th>\n",
              "      <td>20</td>\n",
              "      <td>5</td>\n",
              "      <td>6</td>\n",
              "    </tr>\n",
              "  </tbody>\n",
              "</table>\n",
              "<p>1460 rows × 3 columns</p>\n",
              "</div>"
            ],
            "text/plain": [
              "      MSSubClass  OverallQual  OverallCond\n",
              "0             60            7            5\n",
              "1             20            6            8\n",
              "2             60            7            5\n",
              "3             70            7            5\n",
              "4             60            8            5\n",
              "...          ...          ...          ...\n",
              "1455          60            6            5\n",
              "1456          20            6            6\n",
              "1457          70            7            9\n",
              "1458          20            5            6\n",
              "1459          20            5            6\n",
              "\n",
              "[1460 rows x 3 columns]"
            ]
          },
          "execution_count": 1191,
          "metadata": {},
          "output_type": "execute_result"
        }
      ],
      "source": [
        "data_num[['MSSubClass', 'OverallQual', 'OverallCond']]"
      ]
    },
    {
      "cell_type": "code",
      "execution_count": 1192,
      "metadata": {
        "id": "ZGjSFML6vqAv"
      },
      "outputs": [],
      "source": [
        "#Moving MSSubClass, OverAllQual, and OverallCond because it is categorical data \n",
        "data_cat['MSSubClass'] = data_num['MSSubClass']\n",
        "data_cat['OverallQual'] = data_num['OverallQual']\n",
        "data_cat['OverallCond'] = data_num['OverallCond']\n",
        "\n",
        "data_num.drop(['MSSubClass', 'OverallQual', 'OverallCond'], axis=1, inplace=True)"
      ]
    },
    {
      "cell_type": "code",
      "execution_count": 1193,
      "metadata": {
        "colab": {
          "base_uri": "https://localhost:8080/"
        },
        "id": "ooN1PKVelTGC",
        "outputId": "c307444e-c26a-4cdc-c128-97c962487d9c"
      },
      "outputs": [
        {
          "data": {
            "text/plain": [
              "(1460, 41)"
            ]
          },
          "execution_count": 1193,
          "metadata": {},
          "output_type": "execute_result"
        }
      ],
      "source": [
        "data_cat.shape"
      ]
    },
    {
      "cell_type": "code",
      "execution_count": 1194,
      "metadata": {
        "colab": {
          "base_uri": "https://localhost:8080/"
        },
        "id": "TT4w0QaUhAsk",
        "outputId": "18656138-92c4-4843-9059-9ddd8e779d66"
      },
      "outputs": [
        {
          "data": {
            "text/plain": [
              "(1460, 26)"
            ]
          },
          "execution_count": 1194,
          "metadata": {},
          "output_type": "execute_result"
        }
      ],
      "source": [
        "data_num.shape"
      ]
    },
    {
      "cell_type": "code",
      "execution_count": 1195,
      "metadata": {
        "id": "_aQuQpkwVDra"
      },
      "outputs": [],
      "source": [
        "# data_num.drop(['MoSold', 'TimeSold', 'YrSold'], axis=1, inplace=True)"
      ]
    },
    {
      "cell_type": "code",
      "execution_count": 1196,
      "metadata": {
        "id": "HReP-KD_wzJS"
      },
      "outputs": [],
      "source": [
        "data_time = df_train[['TimeSold', 'YrSold', 'MoSold']].copy()"
      ]
    },
    {
      "cell_type": "code",
      "execution_count": 1197,
      "metadata": {
        "colab": {
          "base_uri": "https://localhost:8080/"
        },
        "id": "2IcEJClbsKdt",
        "outputId": "1d0c5e40-959c-4afe-9e89-0c414cbac77a"
      },
      "outputs": [
        {
          "name": "stdout",
          "output_type": "stream",
          "text": [
            "<class 'pandas.core.frame.DataFrame'>\n",
            "RangeIndex: 1460 entries, 0 to 1459\n",
            "Data columns (total 26 columns):\n",
            " #   Column         Non-Null Count  Dtype  \n",
            "---  ------         --------------  -----  \n",
            " 0   LotFrontage    1460 non-null   float64\n",
            " 1   LotArea        1460 non-null   int64  \n",
            " 2   YearBuilt      1460 non-null   int64  \n",
            " 3   YearRemodAdd   1460 non-null   int64  \n",
            " 4   MasVnrArea     1460 non-null   float64\n",
            " 5   BsmtFinSF1     1460 non-null   int64  \n",
            " 6   BsmtFinSF2     1460 non-null   int64  \n",
            " 7   BsmtUnfSF      1460 non-null   int64  \n",
            " 8   TotalBsmtSF    1460 non-null   int64  \n",
            " 9   1stFlrSF       1460 non-null   int64  \n",
            " 10  2ndFlrSF       1460 non-null   int64  \n",
            " 11  LowQualFinSF   1460 non-null   int64  \n",
            " 12  GrLivArea      1460 non-null   int64  \n",
            " 13  TotRmsAbvGrd   1460 non-null   int64  \n",
            " 14  Fireplaces     1460 non-null   int64  \n",
            " 15  GarageYrBlt    1460 non-null   float64\n",
            " 16  GarageCars     1460 non-null   int64  \n",
            " 17  GarageArea     1460 non-null   int64  \n",
            " 18  WoodDeckSF     1460 non-null   int64  \n",
            " 19  OpenPorchSF    1460 non-null   int64  \n",
            " 20  EnclosedPorch  1460 non-null   int64  \n",
            " 21  3SsnPorch      1460 non-null   int64  \n",
            " 22  ScreenPorch    1460 non-null   int64  \n",
            " 23  PoolArea       1460 non-null   int64  \n",
            " 24  MiscVal        1460 non-null   int64  \n",
            " 25  HouseAge       1460 non-null   int64  \n",
            "dtypes: float64(3), int64(23)\n",
            "memory usage: 296.7 KB\n"
          ]
        }
      ],
      "source": [
        "data_num.info()"
      ]
    },
    {
      "cell_type": "code",
      "execution_count": 1198,
      "metadata": {
        "id": "vjaZEfb9kQlO"
      },
      "outputs": [],
      "source": [
        "def outliers(df, feature):\n",
        "  '''\n",
        "  Takes a dataframe, and feature. This function will return the lower_bound and the upper_bound\n",
        "  '''\n",
        "  q1= df[feature].quantile (0.25)\n",
        "  q3= df[feature].quantile (0.75)\n",
        "  iqr= q3-q1\n",
        "\n",
        "  lower_bound= q1- 1.5*iqr\n",
        "  upper_bound= q3 + 1.5*iqr\n",
        "\n",
        "  return lower_bound, upper_bound"
      ]
    },
    {
      "cell_type": "code",
      "execution_count": 1199,
      "metadata": {
        "colab": {
          "base_uri": "https://localhost:8080/"
        },
        "id": "rW9NYh2lp8Pb",
        "outputId": "5c55c137-3348-470d-cb3d-cbc3673c1310"
      },
      "outputs": [
        {
          "name": "stdout",
          "output_type": "stream",
          "text": [
            "LotFrontage True\n",
            "LotArea True\n",
            "YearBuilt True\n",
            "YearRemodAdd False\n",
            "MasVnrArea True\n",
            "BsmtFinSF1 True\n",
            "BsmtFinSF2 True\n",
            "BsmtUnfSF True\n",
            "TotalBsmtSF True\n",
            "1stFlrSF True\n",
            "2ndFlrSF True\n",
            "LowQualFinSF True\n",
            "GrLivArea True\n",
            "TotRmsAbvGrd True\n",
            "Fireplaces True\n",
            "GarageYrBlt True\n",
            "GarageCars True\n",
            "GarageArea True\n",
            "WoodDeckSF True\n",
            "OpenPorchSF True\n",
            "EnclosedPorch True\n",
            "3SsnPorch True\n",
            "ScreenPorch True\n",
            "PoolArea True\n",
            "MiscVal True\n",
            "HouseAge True\n"
          ]
        }
      ],
      "source": [
        "#Pandas any() method is applicable both on Series and Dataframe. It checks whether any value in the caller object (Dataframe or series) is not 0 and returns True for that. If all values are 0, it will return False.\n",
        "def check_outlier(df, feature):\n",
        "    '''\n",
        "    Takes a dataframe, and feature. This function will return True if there's an outliers in the features and will return false if there is no outliers.\n",
        "    '''\n",
        "    lower_bound, upper_bound = outliers(df, feature)\n",
        "    if df[(df[feature] > upper_bound) | (df[feature] < lower_bound)].any(axis=None):\n",
        "        return True\n",
        "    else:\n",
        "        return False\n",
        "for col in data_num:\n",
        "    print(col, check_outlier(data_num, col))"
      ]
    },
    {
      "cell_type": "code",
      "execution_count": 1200,
      "metadata": {
        "id": "Up2t34P6S-Yu"
      },
      "outputs": [],
      "source": [
        "def replace_outliers(df, feature):\n",
        "  '''\n",
        "  Takes a dataframe, and feature. This function will replace data that is lower and higher than the boundaries and replace it with the lower_bound and upper_bound values.\n",
        "  '''\n",
        "  lower_bound, upper_bound = outliers(df, feature)\n",
        "  df.loc[(df[feature] < lower_bound), feature] = lower_bound\n",
        "  df.loc[(df[feature] > upper_bound), feature] = upper_bound\n",
        "  "
      ]
    },
    {
      "cell_type": "code",
      "execution_count": 1201,
      "metadata": {
        "id": "WkVK9Bo7UueT"
      },
      "outputs": [],
      "source": [
        "for col in data_num.columns:\n",
        "    replace_outliers(data_num, col)"
      ]
    },
    {
      "cell_type": "code",
      "execution_count": 1202,
      "metadata": {
        "colab": {
          "base_uri": "https://localhost:8080/"
        },
        "id": "x_0amzLYX45D",
        "outputId": "721bc7c4-3057-468c-99c5-286efa001a1e"
      },
      "outputs": [
        {
          "name": "stdout",
          "output_type": "stream",
          "text": [
            "LotFrontage False\n",
            "LotArea False\n",
            "YearBuilt False\n",
            "YearRemodAdd False\n",
            "MasVnrArea False\n",
            "BsmtFinSF1 False\n",
            "BsmtFinSF2 False\n",
            "BsmtUnfSF False\n",
            "TotalBsmtSF False\n",
            "1stFlrSF False\n",
            "2ndFlrSF False\n",
            "LowQualFinSF False\n",
            "GrLivArea False\n",
            "TotRmsAbvGrd False\n",
            "Fireplaces False\n",
            "GarageYrBlt False\n",
            "GarageCars False\n",
            "GarageArea False\n",
            "WoodDeckSF False\n",
            "OpenPorchSF False\n",
            "EnclosedPorch False\n",
            "3SsnPorch False\n",
            "ScreenPorch False\n",
            "PoolArea False\n",
            "MiscVal False\n",
            "HouseAge False\n"
          ]
        }
      ],
      "source": [
        "for col in data_num:\n",
        "    print(col, check_outlier(data_num, col))"
      ]
    },
    {
      "cell_type": "markdown",
      "metadata": {
        "id": "GdPIcWK3NXxv"
      },
      "source": [
        "## Data Kategori Ordinal(Label Encoder)"
      ]
    },
    {
      "cell_type": "code",
      "execution_count": 1203,
      "metadata": {
        "id": "Md_q1ld8M_76"
      },
      "outputs": [],
      "source": [
        "from sklearn.preprocessing import LabelEncoder\n",
        "le = LabelEncoder()\n",
        "lisa= data_cat[['OverallQual',\"ExterQual\",\"OverallCond\",\"ExterCond\",\"BsmtQual\",\"BsmtCond\",\"HeatingQC\",\"KitchenQual\",\"FireplaceQu\",\"GarageQual\", 'MSZoning', 'Street', 'LotShape', 'LandContour', 'Utilities',\n",
        "       'LotConfig', 'LandSlope', 'Neighborhood', 'Condition1', 'Condition2',\n",
        "       'BldgType', 'HouseStyle', 'RoofStyle', 'RoofMatl', 'Exterior1st',\n",
        "       'Exterior2nd', 'MasVnrType', 'Foundation', 'BsmtExposure',\n",
        "       'BsmtFinType1', 'BsmtFinType2', 'Heating', 'CentralAir', 'Electrical',\n",
        "       'Functional', 'GarageType', 'GarageFinish', 'PavedDrive',\n",
        "       'SaleType', 'SaleCondition', 'MSSubClass']]\n",
        "for i in lisa:\n",
        "    data_cat[i]=le.fit_transform(lisa[i])"
      ]
    },
    {
      "cell_type": "code",
      "execution_count": 1204,
      "metadata": {
        "colab": {
          "base_uri": "https://localhost:8080/"
        },
        "id": "dywQEVP26UHa",
        "outputId": "4f68992e-3000-4f36-f8dc-de9e90e79de3"
      },
      "outputs": [
        {
          "data": {
            "text/plain": [
              "(1460, 41)"
            ]
          },
          "execution_count": 1204,
          "metadata": {},
          "output_type": "execute_result"
        }
      ],
      "source": [
        "data_cat.shape"
      ]
    },
    {
      "cell_type": "markdown",
      "metadata": {
        "id": "tuVg2RKWNs-X"
      },
      "source": [
        "## Data Kategori Nominal(One Hot Encoder)"
      ]
    },
    {
      "cell_type": "markdown",
      "metadata": {
        "id": "gqF6L_bVCrqc"
      },
      "source": []
    },
    {
      "cell_type": "markdown",
      "metadata": {
        "id": "NID413S1BuZQ"
      },
      "source": [
        "#### Menghapus value counts\n",
        "\n"
      ]
    },
    {
      "cell_type": "code",
      "execution_count": 1205,
      "metadata": {
        "id": "kDK4LQ6sNAkJ"
      },
      "outputs": [],
      "source": [
        "# nominal_data=data_cat[[]]\n",
        "\n",
        "\n",
        "# for i in nominal_data:\n",
        "#        dummies=pd.get_dummies(data_cat[i],prefix=i)\n",
        "#        data_cat= pd.concat([data_cat,dummies],axis=1)"
      ]
    },
    {
      "cell_type": "code",
      "execution_count": null,
      "metadata": {
        "id": "PksLJazOBt3N"
      },
      "outputs": [],
      "source": []
    },
    {
      "cell_type": "code",
      "execution_count": 1206,
      "metadata": {
        "id": "HifeDq3kNA8Q"
      },
      "outputs": [],
      "source": [
        "# data_cat.drop(data_cat[['MSZoning', 'Street', 'LotShape', 'LandContour', 'Utilities',\n",
        "#        'LotConfig', 'LandSlope', 'Neighborhood', 'Condition1', 'Condition2',\n",
        "#        'BldgType', 'HouseStyle', 'RoofStyle', 'RoofMatl', 'Exterior1st',\n",
        "#        'Exterior2nd', 'MasVnrType', 'Foundation', 'BsmtExposure',\n",
        "#        'BsmtFinType1', 'BsmtFinType2', 'Heating', 'CentralAir', 'Electrical',\n",
        "#        'Functional', 'GarageType', 'GarageFinish', 'PavedDrive',\n",
        "#        'SaleType', 'SaleCondition', 'MSSubClass']],axis=1,inplace=True)"
      ]
    },
    {
      "cell_type": "code",
      "execution_count": 1207,
      "metadata": {
        "colab": {
          "base_uri": "https://localhost:8080/"
        },
        "id": "ZWWNZUx5-orI",
        "outputId": "f699332e-4ac6-4af3-de00-433ce85c9b8e"
      },
      "outputs": [
        {
          "data": {
            "text/plain": [
              "(1460, 41)"
            ]
          },
          "execution_count": 1207,
          "metadata": {},
          "output_type": "execute_result"
        }
      ],
      "source": [
        "data_cat.shape"
      ]
    },
    {
      "cell_type": "code",
      "execution_count": 1208,
      "metadata": {
        "id": "MKYQn7PlDKha"
      },
      "outputs": [],
      "source": [
        "X= pd.concat([data_cat, data_num], axis=1)"
      ]
    },
    {
      "cell_type": "code",
      "execution_count": 1209,
      "metadata": {
        "colab": {
          "base_uri": "https://localhost:8080/"
        },
        "id": "EneJFSpfyTsP",
        "outputId": "6a45aa05-9c8c-4d81-b2e0-b4b12f6848b3"
      },
      "outputs": [
        {
          "data": {
            "text/plain": [
              "(1460, 67)"
            ]
          },
          "execution_count": 1209,
          "metadata": {},
          "output_type": "execute_result"
        }
      ],
      "source": [
        "X.shape"
      ]
    },
    {
      "cell_type": "code",
      "execution_count": 1210,
      "metadata": {
        "id": "R4qOMNgcjV6b"
      },
      "outputs": [],
      "source": [
        "X = X.iloc[:, :].values"
      ]
    },
    {
      "cell_type": "code",
      "execution_count": 1211,
      "metadata": {
        "id": "RfI3g3RjkJeP"
      },
      "outputs": [],
      "source": [
        "y = df_train.iloc[:, -1].values"
      ]
    },
    {
      "cell_type": "code",
      "execution_count": 1212,
      "metadata": {
        "id": "0Dv0vyjljNXK"
      },
      "outputs": [],
      "source": [
        "X_train, X_test, y_train, y_test = train_test_split(X, y, test_size=0.3, random_state=42)"
      ]
    },
    {
      "cell_type": "markdown",
      "metadata": {
        "id": "O6gRIpX3UQFp"
      },
      "source": [
        "# Feature Scaling"
      ]
    },
    {
      "cell_type": "code",
      "execution_count": 1213,
      "metadata": {
        "id": "t3T95sdckfZ5"
      },
      "outputs": [],
      "source": [
        "from sklearn.preprocessing import MinMaxScaler, StandardScaler\n",
        "scaler = MinMaxScaler()\n",
        "X_train[:, 40:] =  scaler.fit_transform(X_train[:, 40:])"
      ]
    },
    {
      "cell_type": "code",
      "execution_count": 1214,
      "metadata": {
        "id": "SGHvxsudk2nD"
      },
      "outputs": [],
      "source": [
        "X_test[:, 40:] = scaler.transform(X_test[:, 40:])"
      ]
    },
    {
      "cell_type": "code",
      "execution_count": 1215,
      "metadata": {
        "id": "3vJNPM7nqQ6B"
      },
      "outputs": [],
      "source": [
        "# target_scaler = MinMaxScaler()\n",
        "# y_train = target_scaler.fit_transform(y_train.reshape(-1, 1))\n",
        "# y_test = target_scaler.transform(y_test.reshape(-1, 1))\n"
      ]
    },
    {
      "cell_type": "code",
      "execution_count": 1216,
      "metadata": {
        "colab": {
          "base_uri": "https://localhost:8080/"
        },
        "id": "GaXr3RflyM_J",
        "outputId": "bf92eeb3-bf72-4483-a0ba-b0cef42fe91d"
      },
      "outputs": [],
      "source": [
        "# target_scaler.inverse_transform(test_pred.reshape(-1,1))\n"
      ]
    },
    {
      "cell_type": "markdown",
      "metadata": {
        "id": "Ree790j1dV3X"
      },
      "source": [
        "# Modeling ✈"
      ]
    },
    {
      "cell_type": "code",
      "execution_count": 1217,
      "metadata": {
        "id": "ah7ryDQdeiDa"
      },
      "outputs": [],
      "source": [
        "def eval_regression(ytest,ytrain,test_pred,train_pred):\n",
        "    print(\"MAE_Test: %.3f\" % mean_absolute_error(ytest, test_pred)) \n",
        "    print(\"RMSE_Test: %.3f\" % mean_squared_error(ytest, test_pred, squared=False)) \n",
        "    print('R2 score:_Test %.3f' % r2_score(ytest, test_pred))\n",
        "    print(\"=================================================\\n=================================================\")\n",
        "    print(\"MAE_Train: %.3f\" % mean_absolute_error(ytrain, train_pred)) \n",
        "    print(\"RMSE_Train: %.3f\" % mean_squared_error(ytrain, train_pred, squared=False)) \n",
        "    print('R2 score:_Train %.3f' % r2_score(ytrain, train_pred))\n",
        "    \n",
        "    \n",
        "    \n",
        "def show_best_hyperparameter(model, hyperparameters):\n",
        "    for key, value in hyperparameters.items() :\n",
        "        print('Best '+key+':', model.get_params()[key])"
      ]
    },
    {
      "cell_type": "code",
      "execution_count": 1218,
      "metadata": {
        "colab": {
          "base_uri": "https://localhost:8080/"
        },
        "id": "BxHIAz2XelKp",
        "outputId": "3458fcd5-6fd7-476f-9e55-8bb243960d0d"
      },
      "outputs": [
        {
          "name": "stdout",
          "output_type": "stream",
          "text": [
            "MAE_Test: 19852.858\n",
            "RMSE_Test: 30443.551\n",
            "R2 score:_Test 0.867\n",
            "=================================================\n",
            "=================================================\n",
            "MAE_Train: 18214.127\n",
            "RMSE_Train: 29415.965\n",
            "R2 score:_Train 0.856\n",
            "Train: 0.8562 Test: 0.8672\n"
          ]
        }
      ],
      "source": [
        "LR=LinearRegression()\n",
        "LR.fit(X_train, y_train)\n",
        "test_pred=LR.predict(X_test)\n",
        "train_pred=LR.predict(X_train)\n",
        "eval_regression(y_test,y_train,test_pred,train_pred)\n",
        "print(\"Train: %.4f\" % LR.score(X_train,y_train),\"Test: %.4f\" % LR.score(X_test,y_test))"
      ]
    },
    {
      "cell_type": "code",
      "execution_count": 1219,
      "metadata": {
        "colab": {
          "base_uri": "https://localhost:8080/"
        },
        "id": "VZqw0fl1gqBY",
        "outputId": "33bd03f1-dc90-4a9c-d3cc-fad8bd234c09"
      },
      "outputs": [
        {
          "name": "stdout",
          "output_type": "stream",
          "text": [
            "MAE_Test: 16565.530\n",
            "RMSE_Test: 25806.796\n",
            "R2 score:_Test 0.905\n",
            "=================================================\n",
            "=================================================\n",
            "MAE_Train: 6710.050\n",
            "RMSE_Train: 11469.186\n",
            "R2 score:_Train 0.978\n"
          ]
        },
        {
          "data": {
            "text/plain": [
              "(0.9781439580937833, 0.9045597921931857)"
            ]
          },
          "execution_count": 1219,
          "metadata": {},
          "output_type": "execute_result"
        }
      ],
      "source": [
        "rf = RandomForestRegressor()\n",
        "rf.fit(X_train, y_train)\n",
        "test_pred=rf.predict(X_test)\n",
        "train_pred=rf.predict(X_train)\n",
        "eval_regression(y_test,y_train,test_pred,train_pred)\n",
        "rf.score(X_train,y_train),rf.score(X_test,y_test)"
      ]
    },
    {
      "cell_type": "code",
      "execution_count": 1271,
      "metadata": {
        "colab": {
          "base_uri": "https://localhost:8080/"
        },
        "id": "TGotoizuxMFm",
        "outputId": "fc744891-26f6-4f17-aaf4-b4956419d8cd"
      },
      "outputs": [
        {
          "name": "stdout",
          "output_type": "stream",
          "text": [
            "MAE_Test: 16808.467\n",
            "RMSE_Test: 28621.117\n",
            "R2 score:_Test 0.883\n",
            "=================================================\n",
            "=================================================\n",
            "MAE_Train: 9820.122\n",
            "RMSE_Train: 17815.191\n",
            "R2 score:_Train 0.947\n",
            "---------------------------------------------\n",
            "--------------\n",
            "Best max_depth: 20\n",
            "Best bootstrap: False\n",
            "Best n_jobs: -1\n",
            "Best criterion: poisson\n",
            "Best min_samples_split: 16\n",
            "Best max_features: sqrt\n",
            "Best min_samples_leaf: 2\n",
            "Best oob_score: False\n",
            "Best n_estimators: 150\n",
            "Train: -17815.1914 Test: -28621.1173\n"
          ]
        }
      ],
      "source": [
        "## Tuning \n",
        "n_estimators=[150]\n",
        "criterion=[\"poisson\"]\n",
        "max_depth=[20]\n",
        "min_samples_leaf=[2]\n",
        "max_features=[\"sqrt\"]\n",
        "bootstrap=[True,False]\n",
        "min_samples_split=[16]\n",
        "n_jobs=[-1,1]\n",
        "oob_score=[False]\n",
        "\n",
        "\n",
        "\n",
        "\n",
        "\n",
        "\n",
        "hyper=dict(max_depth=max_depth,bootstrap=bootstrap,n_jobs=n_jobs,criterion=criterion,min_samples_split=min_samples_split,\n",
        "max_features=max_features,min_samples_leaf=min_samples_leaf,oob_score=oob_score,n_estimators=n_estimators)\n",
        "rf=RandomForestRegressor(random_state=42)\n",
        "asd=GridSearchCV(rf,hyper,cv=10,scoring='neg_root_mean_squared_error')\n",
        "\n",
        "bestmodel=asd.fit(X_train,y_train)\n",
        "test_pred=bestmodel.predict(X_test)\n",
        "train_pred=bestmodel.predict(X_train)\n",
        "eval_regression(y_test,y_train,test_pred,train_pred)\n",
        "print(\"---------------------------------------------\\n--------------\")\n",
        "show_best_hyperparameter(bestmodel.best_estimator_, hyper)\n",
        "print(\"Train: %.4f\" % bestmodel.score(X_train,y_train),\"Test: %.4f\" % bestmodel.score(X_test,y_test))"
      ]
    },
    {
      "cell_type": "code",
      "execution_count": 1221,
      "metadata": {
        "colab": {
          "base_uri": "https://localhost:8080/"
        },
        "id": "aZFiRtg0v4r4",
        "outputId": "aa39784a-dcd2-4883-e789-7723e41a2477"
      },
      "outputs": [],
      "source": [
        "# sdas = target_scaler.inverse_transform(test_pred.reshape(-1,1))\n",
        "# sdas"
      ]
    },
    {
      "cell_type": "markdown",
      "metadata": {
        "id": "1tNRQ9zIYv7C"
      },
      "source": [
        "# |-------------------------------------------------------------------------------"
      ]
    },
    {
      "cell_type": "code",
      "execution_count": 1222,
      "metadata": {},
      "outputs": [
        {
          "name": "stdout",
          "output_type": "stream",
          "text": [
            "MAE_Test: 16234.563\n",
            "RMSE_Test: 24961.669\n",
            "R2 score:_Test 0.911\n",
            "=================================================\n",
            "=================================================\n",
            "MAE_Train: 7989.910\n",
            "RMSE_Train: 10862.121\n",
            "R2 score:_Train 0.980\n"
          ]
        },
        {
          "data": {
            "text/plain": [
              "(0.9803964124302406, 0.9107084355926331)"
            ]
          },
          "execution_count": 1222,
          "metadata": {},
          "output_type": "execute_result"
        }
      ],
      "source": [
        "# Xgboost\n",
        "modelxg = XGBRegressor(max_depth=2,n_estimators=200,random_state=42)\n",
        "modelxg.fit(X_train, y_train)\n",
        "test_pred__xg=modelxg.predict(X_test)\n",
        "train_pred=modelxg.predict(X_train)\n",
        "eval_regression(y_test,y_train,test_pred__xg,train_pred)\n",
        "modelxg.score(X_train,y_train),modelxg.score(X_test,y_test)"
      ]
    },
    {
      "cell_type": "code",
      "execution_count": 1223,
      "metadata": {
        "id": "IltSNoeEYxNb"
      },
      "outputs": [
        {
          "name": "stdout",
          "output_type": "stream",
          "text": [
            "MAE_Test: 28851.781\n",
            "RMSE_Test: 44620.497\n",
            "R2 score:_Test 0.715\n",
            "=================================================\n",
            "=================================================\n",
            "MAE_Train: 24446.990\n",
            "RMSE_Train: 37951.891\n",
            "R2 score:_Train 0.761\n"
          ]
        }
      ],
      "source": [
        "from sklearn.neighbors import KNeighborsRegressor\n",
        "kn=KNeighborsRegressor(algorithm='auto')\n",
        "kn.fit(X_train, y_train)\n",
        "test_las=kn.predict(X_test)\n",
        "train_las=kn.predict(X_train)\n",
        "eval_regression(y_test,y_train,test_las,train_las)"
      ]
    },
    {
      "cell_type": "markdown",
      "metadata": {
        "id": "WByMxB_Aoixi"
      },
      "source": [
        "# DATA TEST ✅✅✅✅✅✅✅✅✅✅✅✅✅✅✅✅✅✅✅✅✅✅✅✅✅✅✅✅✅✅✅✅✅✅✅✅✅✅✅✅✅✅✅✅✅✅✅✅✅✅✅✅✅✅✅✅✅✅✅✅✅✅✅✅✅✅✅✅✅✅✅✅✅✅✅✅✅✅✅✅✅"
      ]
    },
    {
      "cell_type": "code",
      "execution_count": 1224,
      "metadata": {
        "colab": {
          "base_uri": "https://localhost:8080/",
          "height": 236
        },
        "id": "18ZWsZA_m80v",
        "outputId": "65d081fa-2f17-4c43-a85a-33479ac681f3"
      },
      "outputs": [
        {
          "data": {
            "text/html": [
              "<div>\n",
              "<style scoped>\n",
              "    .dataframe tbody tr th:only-of-type {\n",
              "        vertical-align: middle;\n",
              "    }\n",
              "\n",
              "    .dataframe tbody tr th {\n",
              "        vertical-align: top;\n",
              "    }\n",
              "\n",
              "    .dataframe thead th {\n",
              "        text-align: right;\n",
              "    }\n",
              "</style>\n",
              "<table border=\"1\" class=\"dataframe\">\n",
              "  <thead>\n",
              "    <tr style=\"text-align: right;\">\n",
              "      <th></th>\n",
              "      <th>Id</th>\n",
              "      <th>MSSubClass</th>\n",
              "      <th>MSZoning</th>\n",
              "      <th>LotFrontage</th>\n",
              "      <th>LotArea</th>\n",
              "      <th>Street</th>\n",
              "      <th>Alley</th>\n",
              "      <th>LotShape</th>\n",
              "      <th>LandContour</th>\n",
              "      <th>Utilities</th>\n",
              "      <th>...</th>\n",
              "      <th>ScreenPorch</th>\n",
              "      <th>PoolArea</th>\n",
              "      <th>PoolQC</th>\n",
              "      <th>Fence</th>\n",
              "      <th>MiscFeature</th>\n",
              "      <th>MiscVal</th>\n",
              "      <th>MoSold</th>\n",
              "      <th>YrSold</th>\n",
              "      <th>SaleType</th>\n",
              "      <th>SaleCondition</th>\n",
              "    </tr>\n",
              "  </thead>\n",
              "  <tbody>\n",
              "    <tr>\n",
              "      <th>0</th>\n",
              "      <td>1461</td>\n",
              "      <td>20</td>\n",
              "      <td>RH</td>\n",
              "      <td>80.0</td>\n",
              "      <td>11622</td>\n",
              "      <td>Pave</td>\n",
              "      <td>NaN</td>\n",
              "      <td>Reg</td>\n",
              "      <td>Lvl</td>\n",
              "      <td>AllPub</td>\n",
              "      <td>...</td>\n",
              "      <td>120</td>\n",
              "      <td>0</td>\n",
              "      <td>NaN</td>\n",
              "      <td>MnPrv</td>\n",
              "      <td>NaN</td>\n",
              "      <td>0</td>\n",
              "      <td>6</td>\n",
              "      <td>2010</td>\n",
              "      <td>WD</td>\n",
              "      <td>Normal</td>\n",
              "    </tr>\n",
              "    <tr>\n",
              "      <th>1</th>\n",
              "      <td>1462</td>\n",
              "      <td>20</td>\n",
              "      <td>RL</td>\n",
              "      <td>81.0</td>\n",
              "      <td>14267</td>\n",
              "      <td>Pave</td>\n",
              "      <td>NaN</td>\n",
              "      <td>IR1</td>\n",
              "      <td>Lvl</td>\n",
              "      <td>AllPub</td>\n",
              "      <td>...</td>\n",
              "      <td>0</td>\n",
              "      <td>0</td>\n",
              "      <td>NaN</td>\n",
              "      <td>NaN</td>\n",
              "      <td>Gar2</td>\n",
              "      <td>12500</td>\n",
              "      <td>6</td>\n",
              "      <td>2010</td>\n",
              "      <td>WD</td>\n",
              "      <td>Normal</td>\n",
              "    </tr>\n",
              "    <tr>\n",
              "      <th>2</th>\n",
              "      <td>1463</td>\n",
              "      <td>60</td>\n",
              "      <td>RL</td>\n",
              "      <td>74.0</td>\n",
              "      <td>13830</td>\n",
              "      <td>Pave</td>\n",
              "      <td>NaN</td>\n",
              "      <td>IR1</td>\n",
              "      <td>Lvl</td>\n",
              "      <td>AllPub</td>\n",
              "      <td>...</td>\n",
              "      <td>0</td>\n",
              "      <td>0</td>\n",
              "      <td>NaN</td>\n",
              "      <td>MnPrv</td>\n",
              "      <td>NaN</td>\n",
              "      <td>0</td>\n",
              "      <td>3</td>\n",
              "      <td>2010</td>\n",
              "      <td>WD</td>\n",
              "      <td>Normal</td>\n",
              "    </tr>\n",
              "    <tr>\n",
              "      <th>3</th>\n",
              "      <td>1464</td>\n",
              "      <td>60</td>\n",
              "      <td>RL</td>\n",
              "      <td>78.0</td>\n",
              "      <td>9978</td>\n",
              "      <td>Pave</td>\n",
              "      <td>NaN</td>\n",
              "      <td>IR1</td>\n",
              "      <td>Lvl</td>\n",
              "      <td>AllPub</td>\n",
              "      <td>...</td>\n",
              "      <td>0</td>\n",
              "      <td>0</td>\n",
              "      <td>NaN</td>\n",
              "      <td>NaN</td>\n",
              "      <td>NaN</td>\n",
              "      <td>0</td>\n",
              "      <td>6</td>\n",
              "      <td>2010</td>\n",
              "      <td>WD</td>\n",
              "      <td>Normal</td>\n",
              "    </tr>\n",
              "    <tr>\n",
              "      <th>4</th>\n",
              "      <td>1465</td>\n",
              "      <td>120</td>\n",
              "      <td>RL</td>\n",
              "      <td>43.0</td>\n",
              "      <td>5005</td>\n",
              "      <td>Pave</td>\n",
              "      <td>NaN</td>\n",
              "      <td>IR1</td>\n",
              "      <td>HLS</td>\n",
              "      <td>AllPub</td>\n",
              "      <td>...</td>\n",
              "      <td>144</td>\n",
              "      <td>0</td>\n",
              "      <td>NaN</td>\n",
              "      <td>NaN</td>\n",
              "      <td>NaN</td>\n",
              "      <td>0</td>\n",
              "      <td>1</td>\n",
              "      <td>2010</td>\n",
              "      <td>WD</td>\n",
              "      <td>Normal</td>\n",
              "    </tr>\n",
              "  </tbody>\n",
              "</table>\n",
              "<p>5 rows × 80 columns</p>\n",
              "</div>"
            ],
            "text/plain": [
              "     Id  MSSubClass MSZoning  LotFrontage  LotArea Street Alley LotShape  \\\n",
              "0  1461          20       RH         80.0    11622   Pave   NaN      Reg   \n",
              "1  1462          20       RL         81.0    14267   Pave   NaN      IR1   \n",
              "2  1463          60       RL         74.0    13830   Pave   NaN      IR1   \n",
              "3  1464          60       RL         78.0     9978   Pave   NaN      IR1   \n",
              "4  1465         120       RL         43.0     5005   Pave   NaN      IR1   \n",
              "\n",
              "  LandContour Utilities  ... ScreenPorch PoolArea PoolQC  Fence MiscFeature  \\\n",
              "0         Lvl    AllPub  ...         120        0    NaN  MnPrv         NaN   \n",
              "1         Lvl    AllPub  ...           0        0    NaN    NaN        Gar2   \n",
              "2         Lvl    AllPub  ...           0        0    NaN  MnPrv         NaN   \n",
              "3         Lvl    AllPub  ...           0        0    NaN    NaN         NaN   \n",
              "4         HLS    AllPub  ...         144        0    NaN    NaN         NaN   \n",
              "\n",
              "  MiscVal MoSold  YrSold  SaleType  SaleCondition  \n",
              "0       0      6    2010        WD         Normal  \n",
              "1   12500      6    2010        WD         Normal  \n",
              "2       0      3    2010        WD         Normal  \n",
              "3       0      6    2010        WD         Normal  \n",
              "4       0      1    2010        WD         Normal  \n",
              "\n",
              "[5 rows x 80 columns]"
            ]
          },
          "execution_count": 1224,
          "metadata": {},
          "output_type": "execute_result"
        }
      ],
      "source": [
        "df_test = pd.read_csv('https://raw.githubusercontent.com/MikhaelAmos/House-Prices-Project/main/test.csv')\n",
        "df_test.head()"
      ]
    },
    {
      "cell_type": "code",
      "execution_count": 1225,
      "metadata": {
        "id": "DNXqgRmBok8g"
      },
      "outputs": [],
      "source": [
        "id_aja=df_test['Id'].copy()"
      ]
    },
    {
      "cell_type": "markdown",
      "metadata": {
        "id": "1ZK5NR1GvzAO"
      },
      "source": [
        "# Feature Engineering"
      ]
    },
    {
      "cell_type": "markdown",
      "metadata": {
        "id": "L44VbAp7vzAO"
      },
      "source": [
        "Creating New Features called HouseAge"
      ]
    },
    {
      "cell_type": "code",
      "execution_count": 1226,
      "metadata": {
        "colab": {
          "base_uri": "https://localhost:8080/"
        },
        "id": "68KCT8h_2ZnU",
        "outputId": "7e2facde-9424-4198-9abf-9e9c9eef96dd"
      },
      "outputs": [
        {
          "data": {
            "text/plain": [
              "0       1961\n",
              "1       1958\n",
              "2       1997\n",
              "3       1998\n",
              "4       1992\n",
              "        ... \n",
              "1454    1970\n",
              "1455    1970\n",
              "1456    1960\n",
              "1457    1992\n",
              "1458    1993\n",
              "Name: YearBuilt, Length: 1459, dtype: int64"
            ]
          },
          "execution_count": 1226,
          "metadata": {},
          "output_type": "execute_result"
        }
      ],
      "source": [
        "df_test['YearBuilt']"
      ]
    },
    {
      "cell_type": "code",
      "execution_count": 1227,
      "metadata": {
        "id": "xD0whwUv1j-b"
      },
      "outputs": [],
      "source": [
        "df_test['MoSold'] = df_test['MoSold'].astype(str)\n",
        "df_test['YrSold'] = df_test['YrSold'].astype(str)\n",
        "\n",
        "df_test['TimeSold'] = df_test['YrSold'] + df_test['MoSold']\n",
        "df_test['TimeSold'] = pd.to_datetime(df_test['TimeSold'].astype(str), format='%Y%m').dt.to_period('M')\n",
        "df_test['TimeSold'] = df_test['TimeSold'].astype(str)"
      ]
    },
    {
      "cell_type": "code",
      "execution_count": 1228,
      "metadata": {
        "id": "mAx_VhKivzAO"
      },
      "outputs": [],
      "source": [
        "df_test['YrSold'] = df_test['YrSold'].astype(int)"
      ]
    },
    {
      "cell_type": "code",
      "execution_count": 1229,
      "metadata": {
        "id": "dbQXzE-HvzAO"
      },
      "outputs": [],
      "source": [
        "df_test['HouseAge'] = df_test['YrSold'] - df_test['YearBuilt']"
      ]
    },
    {
      "cell_type": "code",
      "execution_count": 1230,
      "metadata": {
        "colab": {
          "base_uri": "https://localhost:8080/"
        },
        "id": "oBmE-ZKm2A4T",
        "outputId": "9ae09f6d-334e-48cd-c1ba-2713421ba799"
      },
      "outputs": [
        {
          "data": {
            "text/plain": [
              "0       1961\n",
              "1       1958\n",
              "2       1997\n",
              "3       1998\n",
              "4       1992\n",
              "        ... \n",
              "1454    1970\n",
              "1455    1970\n",
              "1456    1960\n",
              "1457    1992\n",
              "1458    1993\n",
              "Name: YearBuilt, Length: 1459, dtype: int64"
            ]
          },
          "execution_count": 1230,
          "metadata": {},
          "output_type": "execute_result"
        }
      ],
      "source": [
        "df_test[\"YearBuilt\"]"
      ]
    },
    {
      "cell_type": "code",
      "execution_count": 1231,
      "metadata": {
        "colab": {
          "base_uri": "https://localhost:8080/",
          "height": 424
        },
        "id": "8TOZL45lvzAO",
        "outputId": "900f86e7-aee0-4b51-f64d-30699dc789d2"
      },
      "outputs": [
        {
          "data": {
            "text/html": [
              "<div>\n",
              "<style scoped>\n",
              "    .dataframe tbody tr th:only-of-type {\n",
              "        vertical-align: middle;\n",
              "    }\n",
              "\n",
              "    .dataframe tbody tr th {\n",
              "        vertical-align: top;\n",
              "    }\n",
              "\n",
              "    .dataframe thead th {\n",
              "        text-align: right;\n",
              "    }\n",
              "</style>\n",
              "<table border=\"1\" class=\"dataframe\">\n",
              "  <thead>\n",
              "    <tr style=\"text-align: right;\">\n",
              "      <th></th>\n",
              "      <th>HouseAge</th>\n",
              "      <th>YrSold</th>\n",
              "      <th>YearBuilt</th>\n",
              "    </tr>\n",
              "  </thead>\n",
              "  <tbody>\n",
              "    <tr>\n",
              "      <th>0</th>\n",
              "      <td>49</td>\n",
              "      <td>2010</td>\n",
              "      <td>1961</td>\n",
              "    </tr>\n",
              "    <tr>\n",
              "      <th>1</th>\n",
              "      <td>52</td>\n",
              "      <td>2010</td>\n",
              "      <td>1958</td>\n",
              "    </tr>\n",
              "    <tr>\n",
              "      <th>2</th>\n",
              "      <td>13</td>\n",
              "      <td>2010</td>\n",
              "      <td>1997</td>\n",
              "    </tr>\n",
              "    <tr>\n",
              "      <th>3</th>\n",
              "      <td>12</td>\n",
              "      <td>2010</td>\n",
              "      <td>1998</td>\n",
              "    </tr>\n",
              "    <tr>\n",
              "      <th>4</th>\n",
              "      <td>18</td>\n",
              "      <td>2010</td>\n",
              "      <td>1992</td>\n",
              "    </tr>\n",
              "    <tr>\n",
              "      <th>...</th>\n",
              "      <td>...</td>\n",
              "      <td>...</td>\n",
              "      <td>...</td>\n",
              "    </tr>\n",
              "    <tr>\n",
              "      <th>1454</th>\n",
              "      <td>36</td>\n",
              "      <td>2006</td>\n",
              "      <td>1970</td>\n",
              "    </tr>\n",
              "    <tr>\n",
              "      <th>1455</th>\n",
              "      <td>36</td>\n",
              "      <td>2006</td>\n",
              "      <td>1970</td>\n",
              "    </tr>\n",
              "    <tr>\n",
              "      <th>1456</th>\n",
              "      <td>46</td>\n",
              "      <td>2006</td>\n",
              "      <td>1960</td>\n",
              "    </tr>\n",
              "    <tr>\n",
              "      <th>1457</th>\n",
              "      <td>14</td>\n",
              "      <td>2006</td>\n",
              "      <td>1992</td>\n",
              "    </tr>\n",
              "    <tr>\n",
              "      <th>1458</th>\n",
              "      <td>13</td>\n",
              "      <td>2006</td>\n",
              "      <td>1993</td>\n",
              "    </tr>\n",
              "  </tbody>\n",
              "</table>\n",
              "<p>1459 rows × 3 columns</p>\n",
              "</div>"
            ],
            "text/plain": [
              "      HouseAge  YrSold  YearBuilt\n",
              "0           49    2010       1961\n",
              "1           52    2010       1958\n",
              "2           13    2010       1997\n",
              "3           12    2010       1998\n",
              "4           18    2010       1992\n",
              "...        ...     ...        ...\n",
              "1454        36    2006       1970\n",
              "1455        36    2006       1970\n",
              "1456        46    2006       1960\n",
              "1457        14    2006       1992\n",
              "1458        13    2006       1993\n",
              "\n",
              "[1459 rows x 3 columns]"
            ]
          },
          "execution_count": 1231,
          "metadata": {},
          "output_type": "execute_result"
        }
      ],
      "source": [
        "df_test[['HouseAge', 'YrSold', 'YearBuilt']]"
      ]
    },
    {
      "cell_type": "code",
      "execution_count": null,
      "metadata": {
        "id": "uxHDJvg5n34w"
      },
      "outputs": [],
      "source": []
    },
    {
      "cell_type": "markdown",
      "metadata": {
        "id": "gjc8aQ7qopaW"
      },
      "source": [
        "# Data Preprocessing\n",
        "1. Fill Missing Values\n",
        "2. Remove Duplicate\n",
        "3. Resolve Incositencies\n",
        "4. Remove Outliers\n",
        "5. Remove Unecessary \n",
        "6. Feature Encoding\n",
        "7. Feature Selection\n",
        "8. Feature Scaling"
      ]
    },
    {
      "cell_type": "code",
      "execution_count": null,
      "metadata": {
        "id": "NUGi5q287pTd"
      },
      "outputs": [],
      "source": []
    },
    {
      "cell_type": "markdown",
      "metadata": {
        "id": "eW9LfVcJZ0j9"
      },
      "source": [
        "## 1. Removing Redundant Variables "
      ]
    },
    {
      "cell_type": "code",
      "execution_count": 1232,
      "metadata": {
        "id": "MfmLctNNZ0j9"
      },
      "outputs": [],
      "source": [
        "#Remove Id \n",
        "df_test=df_test.drop(columns=['Id'])"
      ]
    },
    {
      "cell_type": "code",
      "execution_count": 1233,
      "metadata": {
        "id": "04B0vI1IZ0j9"
      },
      "outputs": [],
      "source": [
        "#Remove MoSold and YrSold because we already created new features called TimeSold\n",
        "df_test=df_test.drop(columns=['MoSold', 'YrSold'])"
      ]
    },
    {
      "cell_type": "code",
      "execution_count": 1234,
      "metadata": {
        "id": "5xCTSziEZ0j9"
      },
      "outputs": [],
      "source": [
        "# Semua feature ini ['BsmtFullBath', 'BsmtHalfBath', 'FullBath', 'HalfBath', 'BedroomAbvGr', 'KitchenAbvGr'] jika dijumlahkan hasilnya sama dengan TotRmsAbvGrd\n",
        "# So we decide to remove ['BsmtFullBath', 'BsmtHalfBath', 'FullBath', 'HalfBath', 'BedroomAbvGr', 'KitchenAbvGr']\n",
        "df_test.drop(['BsmtFullBath', 'BsmtHalfBath', 'FullBath', 'HalfBath', 'BedroomAbvGr', 'KitchenAbvGr',\"TimeSold\"], axis=1, inplace=True)"
      ]
    },
    {
      "cell_type": "code",
      "execution_count": 1235,
      "metadata": {
        "colab": {
          "base_uri": "https://localhost:8080/"
        },
        "id": "Iwieq469Z0j9",
        "outputId": "b3160ed8-7298-453b-9fc0-1cafb83b840b"
      },
      "outputs": [
        {
          "data": {
            "text/plain": [
              "True     1290\n",
              "False     169\n",
              "dtype: int64"
            ]
          },
          "execution_count": 1235,
          "metadata": {},
          "output_type": "execute_result"
        }
      ],
      "source": [
        "#From the comparison we know that most of the GarageCond and GarageQuals is the same, for example if the Garage Conditionnya is Excellent then GarageQualnya is Excellent too.\n",
        "#So we decide to choose only one which is GarageQual.\n",
        "comparison = df_test['GarageCond'] == df_test['GarageQual']\n",
        "comparison.value_counts()"
      ]
    },
    {
      "cell_type": "code",
      "execution_count": 1236,
      "metadata": {
        "id": "iDMSJmO7Z0j9"
      },
      "outputs": [],
      "source": [
        "df_test.drop(['GarageCond'], axis=1, inplace=True)"
      ]
    },
    {
      "cell_type": "code",
      "execution_count": 1237,
      "metadata": {
        "colab": {
          "base_uri": "https://localhost:8080/"
        },
        "id": "TnlZvJYxZ0j9",
        "outputId": "fcc7ba8c-9fa7-4590-f4f7-692e89a3ab7d"
      },
      "outputs": [
        {
          "data": {
            "text/plain": [
              "(1459, 71)"
            ]
          },
          "execution_count": 1237,
          "metadata": {},
          "output_type": "execute_result"
        }
      ],
      "source": [
        "df_test.shape"
      ]
    },
    {
      "cell_type": "markdown",
      "metadata": {
        "id": "krAK6O7oZ0j9"
      },
      "source": [
        "\n",
        "# Check Missing Value"
      ]
    },
    {
      "cell_type": "markdown",
      "metadata": {
        "id": "KwMrgsQKZ0j-"
      },
      "source": [
        "  ### Before"
      ]
    },
    {
      "cell_type": "code",
      "execution_count": 1238,
      "metadata": {
        "colab": {
          "base_uri": "https://localhost:8080/"
        },
        "id": "H-jRpRF6Z0j-",
        "outputId": "0de42192-3bce-4599-ac6b-bb5b7407f120"
      },
      "outputs": [
        {
          "name": "stdout",
          "output_type": "stream",
          "text": [
            "<class 'pandas.core.frame.DataFrame'>\n",
            "RangeIndex: 1459 entries, 0 to 1458\n",
            "Data columns (total 71 columns):\n",
            " #   Column         Non-Null Count  Dtype  \n",
            "---  ------         --------------  -----  \n",
            " 0   MSSubClass     1459 non-null   int64  \n",
            " 1   MSZoning       1455 non-null   object \n",
            " 2   LotFrontage    1232 non-null   float64\n",
            " 3   LotArea        1459 non-null   int64  \n",
            " 4   Street         1459 non-null   object \n",
            " 5   Alley          107 non-null    object \n",
            " 6   LotShape       1459 non-null   object \n",
            " 7   LandContour    1459 non-null   object \n",
            " 8   Utilities      1457 non-null   object \n",
            " 9   LotConfig      1459 non-null   object \n",
            " 10  LandSlope      1459 non-null   object \n",
            " 11  Neighborhood   1459 non-null   object \n",
            " 12  Condition1     1459 non-null   object \n",
            " 13  Condition2     1459 non-null   object \n",
            " 14  BldgType       1459 non-null   object \n",
            " 15  HouseStyle     1459 non-null   object \n",
            " 16  OverallQual    1459 non-null   int64  \n",
            " 17  OverallCond    1459 non-null   int64  \n",
            " 18  YearBuilt      1459 non-null   int64  \n",
            " 19  YearRemodAdd   1459 non-null   int64  \n",
            " 20  RoofStyle      1459 non-null   object \n",
            " 21  RoofMatl       1459 non-null   object \n",
            " 22  Exterior1st    1458 non-null   object \n",
            " 23  Exterior2nd    1458 non-null   object \n",
            " 24  MasVnrType     1443 non-null   object \n",
            " 25  MasVnrArea     1444 non-null   float64\n",
            " 26  ExterQual      1459 non-null   object \n",
            " 27  ExterCond      1459 non-null   object \n",
            " 28  Foundation     1459 non-null   object \n",
            " 29  BsmtQual       1415 non-null   object \n",
            " 30  BsmtCond       1414 non-null   object \n",
            " 31  BsmtExposure   1415 non-null   object \n",
            " 32  BsmtFinType1   1417 non-null   object \n",
            " 33  BsmtFinSF1     1458 non-null   float64\n",
            " 34  BsmtFinType2   1417 non-null   object \n",
            " 35  BsmtFinSF2     1458 non-null   float64\n",
            " 36  BsmtUnfSF      1458 non-null   float64\n",
            " 37  TotalBsmtSF    1458 non-null   float64\n",
            " 38  Heating        1459 non-null   object \n",
            " 39  HeatingQC      1459 non-null   object \n",
            " 40  CentralAir     1459 non-null   object \n",
            " 41  Electrical     1459 non-null   object \n",
            " 42  1stFlrSF       1459 non-null   int64  \n",
            " 43  2ndFlrSF       1459 non-null   int64  \n",
            " 44  LowQualFinSF   1459 non-null   int64  \n",
            " 45  GrLivArea      1459 non-null   int64  \n",
            " 46  KitchenQual    1458 non-null   object \n",
            " 47  TotRmsAbvGrd   1459 non-null   int64  \n",
            " 48  Functional     1457 non-null   object \n",
            " 49  Fireplaces     1459 non-null   int64  \n",
            " 50  FireplaceQu    729 non-null    object \n",
            " 51  GarageType     1383 non-null   object \n",
            " 52  GarageYrBlt    1381 non-null   float64\n",
            " 53  GarageFinish   1381 non-null   object \n",
            " 54  GarageCars     1458 non-null   float64\n",
            " 55  GarageArea     1458 non-null   float64\n",
            " 56  GarageQual     1381 non-null   object \n",
            " 57  PavedDrive     1459 non-null   object \n",
            " 58  WoodDeckSF     1459 non-null   int64  \n",
            " 59  OpenPorchSF    1459 non-null   int64  \n",
            " 60  EnclosedPorch  1459 non-null   int64  \n",
            " 61  3SsnPorch      1459 non-null   int64  \n",
            " 62  ScreenPorch    1459 non-null   int64  \n",
            " 63  PoolArea       1459 non-null   int64  \n",
            " 64  PoolQC         3 non-null      object \n",
            " 65  Fence          290 non-null    object \n",
            " 66  MiscFeature    51 non-null     object \n",
            " 67  MiscVal        1459 non-null   int64  \n",
            " 68  SaleType       1458 non-null   object \n",
            " 69  SaleCondition  1459 non-null   object \n",
            " 70  HouseAge       1459 non-null   int64  \n",
            "dtypes: float64(9), int64(20), object(42)\n",
            "memory usage: 809.4+ KB\n"
          ]
        }
      ],
      "source": [
        "df_test.info()"
      ]
    },
    {
      "cell_type": "code",
      "execution_count": 1239,
      "metadata": {
        "colab": {
          "base_uri": "https://localhost:8080/"
        },
        "id": "ORBtZZQSZ0j-",
        "outputId": "f147986f-71f5-4d72-a0c3-4cbf29493417"
      },
      "outputs": [
        {
          "name": "stdout",
          "output_type": "stream",
          "text": [
            "MSSubClass missing values: 0\n",
            "MSZoning missing values: 4\n",
            "LotFrontage missing values: 227\n",
            "LotArea missing values: 0\n",
            "Street missing values: 0\n",
            "Alley missing values: 1352\n",
            "LotShape missing values: 0\n",
            "LandContour missing values: 0\n",
            "Utilities missing values: 2\n",
            "LotConfig missing values: 0\n",
            "LandSlope missing values: 0\n",
            "Neighborhood missing values: 0\n",
            "Condition1 missing values: 0\n",
            "Condition2 missing values: 0\n",
            "BldgType missing values: 0\n",
            "HouseStyle missing values: 0\n",
            "OverallQual missing values: 0\n",
            "OverallCond missing values: 0\n",
            "YearBuilt missing values: 0\n",
            "YearRemodAdd missing values: 0\n",
            "RoofStyle missing values: 0\n",
            "RoofMatl missing values: 0\n",
            "Exterior1st missing values: 1\n",
            "Exterior2nd missing values: 1\n",
            "MasVnrType missing values: 16\n",
            "MasVnrArea missing values: 15\n",
            "ExterQual missing values: 0\n",
            "ExterCond missing values: 0\n",
            "Foundation missing values: 0\n",
            "BsmtQual missing values: 44\n",
            "BsmtCond missing values: 45\n",
            "BsmtExposure missing values: 44\n",
            "BsmtFinType1 missing values: 42\n",
            "BsmtFinSF1 missing values: 1\n",
            "BsmtFinType2 missing values: 42\n",
            "BsmtFinSF2 missing values: 1\n",
            "BsmtUnfSF missing values: 1\n",
            "TotalBsmtSF missing values: 1\n",
            "Heating missing values: 0\n",
            "HeatingQC missing values: 0\n",
            "CentralAir missing values: 0\n",
            "Electrical missing values: 0\n",
            "1stFlrSF missing values: 0\n",
            "2ndFlrSF missing values: 0\n",
            "LowQualFinSF missing values: 0\n",
            "GrLivArea missing values: 0\n",
            "KitchenQual missing values: 1\n",
            "TotRmsAbvGrd missing values: 0\n",
            "Functional missing values: 2\n",
            "Fireplaces missing values: 0\n",
            "FireplaceQu missing values: 730\n",
            "GarageType missing values: 76\n",
            "GarageYrBlt missing values: 78\n",
            "GarageFinish missing values: 78\n",
            "GarageCars missing values: 1\n",
            "GarageArea missing values: 1\n",
            "GarageQual missing values: 78\n",
            "PavedDrive missing values: 0\n",
            "WoodDeckSF missing values: 0\n",
            "OpenPorchSF missing values: 0\n",
            "EnclosedPorch missing values: 0\n",
            "3SsnPorch missing values: 0\n",
            "ScreenPorch missing values: 0\n",
            "PoolArea missing values: 0\n",
            "PoolQC missing values: 1456\n",
            "Fence missing values: 1169\n",
            "MiscFeature missing values: 1408\n",
            "MiscVal missing values: 0\n",
            "SaleType missing values: 1\n",
            "SaleCondition missing values: 0\n",
            "HouseAge missing values: 0\n"
          ]
        }
      ],
      "source": [
        "for col in df_test.columns:\n",
        "  missing_values = df_test[col].isna().sum()\n",
        "  print(f\"{col} missing values: {missing_values}\")"
      ]
    },
    {
      "cell_type": "code",
      "execution_count": 1240,
      "metadata": {
        "id": "KncMl9gmZ0j-"
      },
      "outputs": [],
      "source": [
        "#Drop missing values that are above 80% from all data\n",
        "df_test.drop(columns=['Alley', 'PoolQC', 'Fence', 'MiscFeature'], axis=1, inplace=True)"
      ]
    },
    {
      "cell_type": "code",
      "execution_count": 1241,
      "metadata": {
        "colab": {
          "base_uri": "https://localhost:8080/"
        },
        "id": "HmGPMIsAZ0j-",
        "outputId": "d7837c91-076c-405e-ed0f-5f4106a4162e"
      },
      "outputs": [
        {
          "data": {
            "text/plain": [
              "(1459, 67)"
            ]
          },
          "execution_count": 1241,
          "metadata": {},
          "output_type": "execute_result"
        }
      ],
      "source": [
        "df_test.shape"
      ]
    },
    {
      "cell_type": "code",
      "execution_count": 1242,
      "metadata": {
        "id": "8i0jIxQ0Z0j-"
      },
      "outputs": [],
      "source": [
        "values = {'BsmtQual':'No Basement', \n",
        "           'BsmtCond':'No Basement', \n",
        "            'BsmtExposure': 'No Basement',\n",
        "           'BsmtFinType1': 'No Basement',\n",
        "           'BsmtFinType2': 'No Basement',\n",
        "           'FireplaceQu': 'No Fireplace',\n",
        "           'GarageType': 'No Garage',\n",
        "           'GarageFinish': 'No Garage',\n",
        "          'GarageQual': 'No Garage',\n",
        "          'GarageCond':'No Garage'\n",
        "          }\n",
        "df_test.fillna(value=values, inplace=True)"
      ]
    },
    {
      "cell_type": "code",
      "execution_count": 1243,
      "metadata": {
        "id": "z8J7jlbAZ0j-"
      },
      "outputs": [],
      "source": [
        "df_test[\"MasVnrArea\"]=df_test[\"MasVnrArea\"].fillna(df_test[\"MasVnrArea\"].mean(), axis=0)\n",
        "df_test[\"LotFrontage\"]=df_test[\"LotFrontage\"].fillna(df_test[\"LotFrontage\"].mean(), axis=0)\n",
        "df_test[\"GarageYrBlt\"]=df_test[\"GarageYrBlt\"].fillna(1980, axis=0)\n",
        "df_test[\"Electrical\"]=df_test[\"Electrical\"].fillna('SBrkr', axis=0)\n",
        "df_test[\"MasVnrType\"]=df_test[\"MasVnrType\"].fillna('None', axis=0)\n",
        "df_test[\"MSZoning\"]=df_test[\"MSZoning\"].fillna('RL', axis=0)\n",
        "df_test[\"Utilities\"]=df_test[\"Utilities\"].fillna('AllPub', axis=0)\n",
        "df_test[\"Exterior1st\"]=df_test[\"Exterior1st\"].fillna('VinylSd', axis=0)\n",
        "df_test[\"Exterior2nd\"]=df_test[\"Exterior2nd\"].fillna('VinylSd', axis=0)\n",
        "df_test[\"BsmtFinSF1\"]=df_test[\"BsmtFinSF1\"].fillna(df_test[\"BsmtFinSF1\"].mean(), axis=0)\n",
        "df_test[\"BsmtFinSF2\"]=df_test[\"BsmtFinSF2\"].fillna(df_test[\"BsmtFinSF2\"].mean(), axis=0)\n",
        "df_test[\"BsmtUnfSF\"]=df_test[\"BsmtUnfSF\"].fillna(df_test[\"BsmtUnfSF\"].mean(), axis=0)\n",
        "df_test[\"KitchenQual\"]=df_test[\"KitchenQual\"].fillna('TA', axis=0)\n",
        "df_test[\"Functional\"]=df_test[\"Functional\"].fillna('Typ', axis=0)\n",
        "df_test[\"GarageCars\"]=df_test[\"GarageCars\"].fillna(df_test[\"GarageCars\"].mean(), axis=0)\n",
        "df_test[\"SaleType\"]=df_test[\"SaleType\"].fillna('WD', axis=0)\n",
        "df_test[\"GarageArea\"]=df_test[\"GarageArea\"].fillna(df_test[\"GarageArea\"].mean(), axis=0)\n",
        "df_test[\"TotalBsmtSF\"]=df_test[\"TotalBsmtSF\"].fillna(df_test[\"TotalBsmtSF\"].mean(), axis=0)"
      ]
    },
    {
      "cell_type": "code",
      "execution_count": 1244,
      "metadata": {
        "colab": {
          "base_uri": "https://localhost:8080/"
        },
        "id": "jquDViVWdsX9",
        "outputId": "5fa88c6f-2cf7-4ede-f0b3-d49bfad97cd5"
      },
      "outputs": [
        {
          "data": {
            "text/plain": [
              "0    0.0\n",
              "dtype: float64"
            ]
          },
          "execution_count": 1244,
          "metadata": {},
          "output_type": "execute_result"
        }
      ],
      "source": [
        "df_test[\"TotalBsmtSF\"].mode()"
      ]
    },
    {
      "cell_type": "markdown",
      "metadata": {
        "id": "40gDJ9j1Z0j-"
      },
      "source": [
        "### After"
      ]
    },
    {
      "cell_type": "code",
      "execution_count": 1245,
      "metadata": {
        "colab": {
          "base_uri": "https://localhost:8080/"
        },
        "id": "IEQLx_89Z0j-",
        "outputId": "a22664a9-ca76-41ec-d4ce-2ff88f64c929"
      },
      "outputs": [
        {
          "name": "stdout",
          "output_type": "stream",
          "text": [
            "MSSubClass missing values: 0\n",
            "MSZoning missing values: 0\n",
            "LotFrontage missing values: 0\n",
            "LotArea missing values: 0\n",
            "Street missing values: 0\n",
            "LotShape missing values: 0\n",
            "LandContour missing values: 0\n",
            "Utilities missing values: 0\n",
            "LotConfig missing values: 0\n",
            "LandSlope missing values: 0\n",
            "Neighborhood missing values: 0\n",
            "Condition1 missing values: 0\n",
            "Condition2 missing values: 0\n",
            "BldgType missing values: 0\n",
            "HouseStyle missing values: 0\n",
            "OverallQual missing values: 0\n",
            "OverallCond missing values: 0\n",
            "YearBuilt missing values: 0\n",
            "YearRemodAdd missing values: 0\n",
            "RoofStyle missing values: 0\n",
            "RoofMatl missing values: 0\n",
            "Exterior1st missing values: 0\n",
            "Exterior2nd missing values: 0\n",
            "MasVnrType missing values: 0\n",
            "MasVnrArea missing values: 0\n",
            "ExterQual missing values: 0\n",
            "ExterCond missing values: 0\n",
            "Foundation missing values: 0\n",
            "BsmtQual missing values: 0\n",
            "BsmtCond missing values: 0\n",
            "BsmtExposure missing values: 0\n",
            "BsmtFinType1 missing values: 0\n",
            "BsmtFinSF1 missing values: 0\n",
            "BsmtFinType2 missing values: 0\n",
            "BsmtFinSF2 missing values: 0\n",
            "BsmtUnfSF missing values: 0\n",
            "TotalBsmtSF missing values: 0\n",
            "Heating missing values: 0\n",
            "HeatingQC missing values: 0\n",
            "CentralAir missing values: 0\n",
            "Electrical missing values: 0\n",
            "1stFlrSF missing values: 0\n",
            "2ndFlrSF missing values: 0\n",
            "LowQualFinSF missing values: 0\n",
            "GrLivArea missing values: 0\n",
            "KitchenQual missing values: 0\n",
            "TotRmsAbvGrd missing values: 0\n",
            "Functional missing values: 0\n",
            "Fireplaces missing values: 0\n",
            "FireplaceQu missing values: 0\n",
            "GarageType missing values: 0\n",
            "GarageYrBlt missing values: 0\n",
            "GarageFinish missing values: 0\n",
            "GarageCars missing values: 0\n",
            "GarageArea missing values: 0\n",
            "GarageQual missing values: 0\n",
            "PavedDrive missing values: 0\n",
            "WoodDeckSF missing values: 0\n",
            "OpenPorchSF missing values: 0\n",
            "EnclosedPorch missing values: 0\n",
            "3SsnPorch missing values: 0\n",
            "ScreenPorch missing values: 0\n",
            "PoolArea missing values: 0\n",
            "MiscVal missing values: 0\n",
            "SaleType missing values: 0\n",
            "SaleCondition missing values: 0\n",
            "HouseAge missing values: 0\n"
          ]
        }
      ],
      "source": [
        "for col in df_test.columns:\n",
        "  missing_values = df_test[col].isna().sum()\n",
        "  print(f\"{col} missing values: {missing_values}\")"
      ]
    },
    {
      "cell_type": "markdown",
      "metadata": {
        "id": "DqinL4GJZ0j_"
      },
      "source": [
        "## Spliting Data Into Numerical dan Categorical "
      ]
    },
    {
      "cell_type": "code",
      "execution_count": 1246,
      "metadata": {
        "id": "GbCFFwGXZ0j_"
      },
      "outputs": [],
      "source": [
        "numerics = ['int8','int16', 'int32', 'int64', 'float16', 'float32', 'float64']\n",
        "categorical=[\"object\"]\n",
        "\n",
        "data_num_test = df_test.select_dtypes(include=numerics)\n",
        "data_cat_test = df_test.select_dtypes(include=categorical) "
      ]
    },
    {
      "cell_type": "code",
      "execution_count": 1247,
      "metadata": {
        "colab": {
          "base_uri": "https://localhost:8080/",
          "height": 424
        },
        "id": "LS1Jl-ZwZ0j_",
        "outputId": "b38ea348-7838-4762-e542-e9c498712650"
      },
      "outputs": [
        {
          "data": {
            "text/html": [
              "<div>\n",
              "<style scoped>\n",
              "    .dataframe tbody tr th:only-of-type {\n",
              "        vertical-align: middle;\n",
              "    }\n",
              "\n",
              "    .dataframe tbody tr th {\n",
              "        vertical-align: top;\n",
              "    }\n",
              "\n",
              "    .dataframe thead th {\n",
              "        text-align: right;\n",
              "    }\n",
              "</style>\n",
              "<table border=\"1\" class=\"dataframe\">\n",
              "  <thead>\n",
              "    <tr style=\"text-align: right;\">\n",
              "      <th></th>\n",
              "      <th>MSSubClass</th>\n",
              "      <th>OverallQual</th>\n",
              "      <th>OverallCond</th>\n",
              "    </tr>\n",
              "  </thead>\n",
              "  <tbody>\n",
              "    <tr>\n",
              "      <th>0</th>\n",
              "      <td>20</td>\n",
              "      <td>5</td>\n",
              "      <td>6</td>\n",
              "    </tr>\n",
              "    <tr>\n",
              "      <th>1</th>\n",
              "      <td>20</td>\n",
              "      <td>6</td>\n",
              "      <td>6</td>\n",
              "    </tr>\n",
              "    <tr>\n",
              "      <th>2</th>\n",
              "      <td>60</td>\n",
              "      <td>5</td>\n",
              "      <td>5</td>\n",
              "    </tr>\n",
              "    <tr>\n",
              "      <th>3</th>\n",
              "      <td>60</td>\n",
              "      <td>6</td>\n",
              "      <td>6</td>\n",
              "    </tr>\n",
              "    <tr>\n",
              "      <th>4</th>\n",
              "      <td>120</td>\n",
              "      <td>8</td>\n",
              "      <td>5</td>\n",
              "    </tr>\n",
              "    <tr>\n",
              "      <th>...</th>\n",
              "      <td>...</td>\n",
              "      <td>...</td>\n",
              "      <td>...</td>\n",
              "    </tr>\n",
              "    <tr>\n",
              "      <th>1454</th>\n",
              "      <td>160</td>\n",
              "      <td>4</td>\n",
              "      <td>7</td>\n",
              "    </tr>\n",
              "    <tr>\n",
              "      <th>1455</th>\n",
              "      <td>160</td>\n",
              "      <td>4</td>\n",
              "      <td>5</td>\n",
              "    </tr>\n",
              "    <tr>\n",
              "      <th>1456</th>\n",
              "      <td>20</td>\n",
              "      <td>5</td>\n",
              "      <td>7</td>\n",
              "    </tr>\n",
              "    <tr>\n",
              "      <th>1457</th>\n",
              "      <td>85</td>\n",
              "      <td>5</td>\n",
              "      <td>5</td>\n",
              "    </tr>\n",
              "    <tr>\n",
              "      <th>1458</th>\n",
              "      <td>60</td>\n",
              "      <td>7</td>\n",
              "      <td>5</td>\n",
              "    </tr>\n",
              "  </tbody>\n",
              "</table>\n",
              "<p>1459 rows × 3 columns</p>\n",
              "</div>"
            ],
            "text/plain": [
              "      MSSubClass  OverallQual  OverallCond\n",
              "0             20            5            6\n",
              "1             20            6            6\n",
              "2             60            5            5\n",
              "3             60            6            6\n",
              "4            120            8            5\n",
              "...          ...          ...          ...\n",
              "1454         160            4            7\n",
              "1455         160            4            5\n",
              "1456          20            5            7\n",
              "1457          85            5            5\n",
              "1458          60            7            5\n",
              "\n",
              "[1459 rows x 3 columns]"
            ]
          },
          "execution_count": 1247,
          "metadata": {},
          "output_type": "execute_result"
        }
      ],
      "source": [
        "data_num_test[['MSSubClass', 'OverallQual', 'OverallCond']]"
      ]
    },
    {
      "cell_type": "code",
      "execution_count": 1248,
      "metadata": {
        "id": "8Mto6aC2Z0j_"
      },
      "outputs": [],
      "source": [
        "#Moving MSSubClass, OverAllQual, and OverallCond because it is categorical data \n",
        "data_cat_test['MSSubClass'] = data_num_test['MSSubClass']\n",
        "data_cat_test['OverallQual'] = data_num_test['OverallQual']\n",
        "data_cat_test['OverallCond'] = data_num_test['OverallCond']\n",
        "\n",
        "data_num_test.drop(['MSSubClass', 'OverallQual', 'OverallCond'], axis=1, inplace=True)"
      ]
    },
    {
      "cell_type": "code",
      "execution_count": 1249,
      "metadata": {
        "id": "aG-j7_PaZ0j_"
      },
      "outputs": [],
      "source": [
        "# data_num.drop(['MoSold', 'TimeSold', 'YrSold'], axis=1, inplace=True)"
      ]
    },
    {
      "cell_type": "code",
      "execution_count": 1250,
      "metadata": {
        "id": "bPWLAzXSZ0j_"
      },
      "outputs": [],
      "source": [
        "def outliers(df, feature):\n",
        "  '''\n",
        "  Takes a dataframe, and feature. This function will return the lower_bound and the upper_bound\n",
        "  '''\n",
        "  q1= df[feature].quantile (0.25)\n",
        "  q3= df[feature].quantile (0.75)\n",
        "  iqr= q3-q1\n",
        "\n",
        "  lower_bound= q1- 1.5*iqr\n",
        "  upper_bound= q3 + 1.5*iqr\n",
        "\n",
        "  return lower_bound, upper_bound"
      ]
    },
    {
      "cell_type": "code",
      "execution_count": 1251,
      "metadata": {
        "colab": {
          "base_uri": "https://localhost:8080/"
        },
        "id": "ePZZHSsbZ0j_",
        "outputId": "7cca6059-6b52-4d10-9a31-c01c04081bf9"
      },
      "outputs": [
        {
          "name": "stdout",
          "output_type": "stream",
          "text": [
            "LotFrontage True\n",
            "LotArea True\n",
            "YearBuilt True\n",
            "YearRemodAdd False\n",
            "MasVnrArea True\n",
            "BsmtFinSF1 True\n",
            "BsmtFinSF2 True\n",
            "BsmtUnfSF True\n",
            "TotalBsmtSF True\n",
            "1stFlrSF True\n",
            "2ndFlrSF True\n",
            "LowQualFinSF True\n",
            "GrLivArea True\n",
            "TotRmsAbvGrd True\n",
            "Fireplaces True\n",
            "GarageYrBlt True\n",
            "GarageCars True\n",
            "GarageArea True\n",
            "WoodDeckSF True\n",
            "OpenPorchSF True\n",
            "EnclosedPorch True\n",
            "3SsnPorch True\n",
            "ScreenPorch True\n",
            "PoolArea True\n",
            "MiscVal True\n",
            "HouseAge True\n"
          ]
        }
      ],
      "source": [
        "#Pandas any() method is applicable both on Series and Dataframe. It checks whether any value in the caller object (Dataframe or series) is not 0 and returns True for that. If all values are 0, it will return False.\n",
        "def check_outlier(df, feature):\n",
        "    '''\n",
        "    Takes a dataframe, and feature. This function will return True if there's an outliers in the features and will return false if there is no outliers.\n",
        "    '''\n",
        "    lower_bound, upper_bound = outliers(df, feature)\n",
        "    if df[(df[feature] > upper_bound) | (df[feature] < lower_bound)].any(axis=None):\n",
        "        return True\n",
        "    else:\n",
        "        return False\n",
        "for col in data_num_test:\n",
        "    print(col, check_outlier(data_num_test, col))"
      ]
    },
    {
      "cell_type": "code",
      "execution_count": 1252,
      "metadata": {
        "id": "yWPEu9e9Z0j_"
      },
      "outputs": [],
      "source": [
        "def replace_outliers(df, feature):\n",
        "  '''\n",
        "  Takes a dataframe, and feature. This function will replace data that is lower and higher than the boundaries and replace it with the lower_bound and upper_bound values.\n",
        "  '''\n",
        "  lower_bound, upper_bound = outliers(df, feature)\n",
        "  df.loc[(df[feature] < lower_bound), feature] = lower_bound\n",
        "  df.loc[(df[feature] > upper_bound), feature] = upper_bound\n",
        "  "
      ]
    },
    {
      "cell_type": "code",
      "execution_count": 1253,
      "metadata": {
        "id": "uRQOlIK5Z0j_"
      },
      "outputs": [],
      "source": [
        "for col in data_num_test.columns:\n",
        "    replace_outliers(data_num_test, col)"
      ]
    },
    {
      "cell_type": "code",
      "execution_count": 1254,
      "metadata": {
        "colab": {
          "base_uri": "https://localhost:8080/"
        },
        "id": "PdXRKGUrZ0kA",
        "outputId": "311226b6-ce0f-40b6-bdd9-7c6df66eb18c"
      },
      "outputs": [
        {
          "name": "stdout",
          "output_type": "stream",
          "text": [
            "LotFrontage False\n",
            "LotArea False\n",
            "YearBuilt False\n",
            "YearRemodAdd False\n",
            "MasVnrArea False\n",
            "BsmtFinSF1 False\n",
            "BsmtFinSF2 False\n",
            "BsmtUnfSF False\n",
            "TotalBsmtSF False\n",
            "1stFlrSF False\n",
            "2ndFlrSF False\n",
            "LowQualFinSF False\n",
            "GrLivArea False\n",
            "TotRmsAbvGrd False\n",
            "Fireplaces False\n",
            "GarageYrBlt False\n",
            "GarageCars False\n",
            "GarageArea False\n",
            "WoodDeckSF False\n",
            "OpenPorchSF False\n",
            "EnclosedPorch False\n",
            "3SsnPorch False\n",
            "ScreenPorch False\n",
            "PoolArea False\n",
            "MiscVal False\n",
            "HouseAge False\n"
          ]
        }
      ],
      "source": [
        "for col in data_num_test:\n",
        "    print(col, check_outlier(data_num_test, col))"
      ]
    },
    {
      "cell_type": "markdown",
      "metadata": {
        "id": "kARkExnhZ0kA"
      },
      "source": [
        "## Data Kategori Ordinal(Label Encoder)"
      ]
    },
    {
      "cell_type": "code",
      "execution_count": 1255,
      "metadata": {
        "id": "QA4n5_q1Z0kA"
      },
      "outputs": [],
      "source": [
        "from sklearn.preprocessing import LabelEncoder\n",
        "le = LabelEncoder()\n",
        "lisa= data_cat_test[['OverallQual',\"ExterQual\",\"OverallCond\",\"ExterCond\",\"BsmtQual\",\"BsmtCond\",\"HeatingQC\",\"KitchenQual\",\"FireplaceQu\",\"GarageQual\",'MSZoning', 'Street', 'LotShape', 'LandContour', 'Utilities',\n",
        "       'LotConfig', 'LandSlope', 'Neighborhood', 'Condition1', 'Condition2',\n",
        "       'BldgType', 'HouseStyle', 'RoofStyle', 'RoofMatl', 'Exterior1st',\n",
        "       'Exterior2nd', 'MasVnrType', 'Foundation', 'BsmtExposure',\n",
        "       'BsmtFinType1', 'BsmtFinType2', 'Heating', 'CentralAir', 'Electrical',\n",
        "       'Functional', 'GarageType', 'GarageFinish', 'PavedDrive',\n",
        "       'SaleType', 'SaleCondition', 'MSSubClass']]\n",
        "for i in lisa:\n",
        "    data_cat_test[i]=le.fit_transform(lisa[i])"
      ]
    },
    {
      "cell_type": "code",
      "execution_count": 1256,
      "metadata": {
        "colab": {
          "base_uri": "https://localhost:8080/"
        },
        "id": "cBIoNPuDZ0kA",
        "outputId": "8926bd65-bc01-4a34-c9d3-ccf46c5a8e96"
      },
      "outputs": [
        {
          "data": {
            "text/plain": [
              "(1459, 41)"
            ]
          },
          "execution_count": 1256,
          "metadata": {},
          "output_type": "execute_result"
        }
      ],
      "source": [
        "data_cat_test.shape"
      ]
    },
    {
      "cell_type": "markdown",
      "metadata": {
        "id": "bIWs5VTbZ0kA"
      },
      "source": [
        "## Data Kategori Nominal(One Hot Encoder)"
      ]
    },
    {
      "cell_type": "code",
      "execution_count": 1257,
      "metadata": {
        "id": "JdcemDfIZ0kA"
      },
      "outputs": [],
      "source": [
        "# nominal_data=data_cat_test[['MSZoning', 'Street', 'LotShape', 'LandContour', 'Utilities',\n",
        "#        'LotConfig', 'LandSlope', 'Neighborhood', 'Condition1', 'Condition2',\n",
        "#        'BldgType', 'HouseStyle', 'RoofStyle', 'RoofMatl', 'Exterior1st',\n",
        "#        'Exterior2nd', 'MasVnrType', 'Foundation', 'BsmtExposure',\n",
        "#        'BsmtFinType1', 'BsmtFinType2', 'Heating', 'CentralAir', 'Electrical',\n",
        "#        'Functional', 'GarageType', 'GarageFinish', 'PavedDrive',\n",
        "#        'SaleType', 'SaleCondition', 'MSSubClass']]\n",
        "\n",
        "\n",
        "# for i in nominal_data:\n",
        "#        dummies=pd.get_dummies(data_cat_test[i],prefix=i)\n",
        "#        data_cat_test= pd.concat([data_cat_test,dummies],axis=1)"
      ]
    },
    {
      "cell_type": "code",
      "execution_count": 1258,
      "metadata": {
        "id": "FVR5X3KFZ0kA"
      },
      "outputs": [],
      "source": [
        "# data_cat_test.drop(data_cat_test[['MSZoning', 'Street', 'LotShape', 'LandContour', 'Utilities',\n",
        "#        'LotConfig', 'LandSlope', 'Neighborhood', 'Condition1', 'Condition2',\n",
        "#        'BldgType', 'HouseStyle', 'RoofStyle', 'RoofMatl', 'Exterior1st',\n",
        "#        'Exterior2nd', 'MasVnrType', 'Foundation', 'BsmtExposure',\n",
        "#        'BsmtFinType1', 'BsmtFinType2', 'Heating', 'CentralAir', 'Electrical',\n",
        "#        'Functional', 'GarageType', 'GarageFinish', 'PavedDrive',\n",
        "#        'SaleType', 'SaleCondition', 'MSSubClass']],axis=1,inplace=True)"
      ]
    },
    {
      "cell_type": "code",
      "execution_count": 1259,
      "metadata": {
        "colab": {
          "base_uri": "https://localhost:8080/"
        },
        "id": "9Q1OW4oL-3RA",
        "outputId": "8d1f7789-0401-4c33-8568-a9f70ab404ae"
      },
      "outputs": [
        {
          "data": {
            "text/plain": [
              "(1459, 41)"
            ]
          },
          "execution_count": 1259,
          "metadata": {},
          "output_type": "execute_result"
        }
      ],
      "source": [
        "data_cat_test.shape"
      ]
    },
    {
      "cell_type": "code",
      "execution_count": 1260,
      "metadata": {
        "id": "eYQ_A5QV9j7j"
      },
      "outputs": [],
      "source": [
        "X_test_blind= pd.concat([data_cat_test, data_num_test], axis=1)\n"
      ]
    },
    {
      "cell_type": "code",
      "execution_count": 1261,
      "metadata": {},
      "outputs": [
        {
          "data": {
            "text/plain": [
              "<bound method DataFrame.info of       MSZoning  Street  LotShape  LandContour  Utilities  LotConfig  \\\n",
              "0            2       1         3            3          0          4   \n",
              "1            3       1         0            3          0          0   \n",
              "2            3       1         0            3          0          4   \n",
              "3            3       1         0            3          0          4   \n",
              "4            3       1         0            1          0          4   \n",
              "...        ...     ...       ...          ...        ...        ...   \n",
              "1454         4       1         3            3          0          4   \n",
              "1455         4       1         3            3          0          4   \n",
              "1456         3       1         3            3          0          4   \n",
              "1457         3       1         3            3          0          4   \n",
              "1458         3       1         3            3          0          4   \n",
              "\n",
              "      LandSlope  Neighborhood  Condition1  Condition2  ...  GarageCars  \\\n",
              "0             0            12           1           2  ...         1.0   \n",
              "1             0            12           2           2  ...         1.0   \n",
              "2             0             8           2           2  ...         2.0   \n",
              "3             0             8           2           2  ...         2.0   \n",
              "4             0            22           2           2  ...         2.0   \n",
              "...         ...           ...         ...         ...  ...         ...   \n",
              "1454          0            10           2           2  ...         0.0   \n",
              "1455          0            10           2           2  ...         1.0   \n",
              "1456          0            11           2           2  ...         2.0   \n",
              "1457          0            11           2           2  ...         0.0   \n",
              "1458          1            11           2           2  ...         3.0   \n",
              "\n",
              "      GarageArea  WoodDeckSF  OpenPorchSF  EnclosedPorch  3SsnPorch  \\\n",
              "0          730.0         140            0              0          0   \n",
              "1          312.0         393           36              0          0   \n",
              "2          482.0         212           34              0          0   \n",
              "3          470.0         360           36              0          0   \n",
              "4          506.0           0           82              0          0   \n",
              "...          ...         ...          ...            ...        ...   \n",
              "1454         0.0           0            0              0          0   \n",
              "1455       286.0           0           24              0          0   \n",
              "1456       576.0         420            0              0          0   \n",
              "1457         0.0          80           32              0          0   \n",
              "1458       650.0         190           48              0          0   \n",
              "\n",
              "      ScreenPorch  PoolArea  MiscVal  HouseAge  \n",
              "0               0         0        0        49  \n",
              "1               0         0        0        52  \n",
              "2               0         0        0        13  \n",
              "3               0         0        0        12  \n",
              "4               0         0        0        18  \n",
              "...           ...       ...      ...       ...  \n",
              "1454            0         0        0        36  \n",
              "1455            0         0        0        36  \n",
              "1456            0         0        0        46  \n",
              "1457            0         0        0        14  \n",
              "1458            0         0        0        13  \n",
              "\n",
              "[1459 rows x 67 columns]>"
            ]
          },
          "execution_count": 1261,
          "metadata": {},
          "output_type": "execute_result"
        }
      ],
      "source": [
        "X_test_blind.info"
      ]
    },
    {
      "cell_type": "code",
      "execution_count": 1262,
      "metadata": {
        "id": "W2v4nsQG9sBz"
      },
      "outputs": [
        {
          "data": {
            "text/plain": [
              "array([[0.5      , 1.       , 1.       , ..., 0.       , 0.       ,\n",
              "        0.390625 ],\n",
              "       [0.75     , 1.       , 0.       , ..., 0.       , 0.       ,\n",
              "        0.4140625],\n",
              "       [0.75     , 1.       , 0.       , ..., 0.       , 0.       ,\n",
              "        0.109375 ],\n",
              "       ...,\n",
              "       [0.75     , 1.       , 1.       , ..., 0.       , 0.       ,\n",
              "        0.3671875],\n",
              "       [0.75     , 1.       , 1.       , ..., 0.       , 0.       ,\n",
              "        0.1171875],\n",
              "       [0.75     , 1.       , 1.       , ..., 0.       , 0.       ,\n",
              "        0.109375 ]])"
            ]
          },
          "execution_count": 1262,
          "metadata": {},
          "output_type": "execute_result"
        }
      ],
      "source": [
        "from sklearn.preprocessing import MinMaxScaler, StandardScaler\n",
        "scaler = MinMaxScaler()\n",
        "X_test_blind =  scaler.fit_transform(X_test_blind)\n",
        "X_test_blind"
      ]
    },
    {
      "cell_type": "code",
      "execution_count": 1263,
      "metadata": {
        "colab": {
          "base_uri": "https://localhost:8080/"
        },
        "id": "o3u71rxDcKXt",
        "outputId": "a9d384fa-e9e9-421d-dfc3-84163dcefd33"
      },
      "outputs": [],
      "source": [
        "# print(X_test_blind.isnull().sum())"
      ]
    },
    {
      "cell_type": "markdown",
      "metadata": {
        "id": "kozz8-yEaIu5"
      },
      "source": [
        "# Apply model ke data test"
      ]
    },
    {
      "cell_type": "code",
      "execution_count": null,
      "metadata": {
        "id": "rIvMSyQ2aSHX"
      },
      "outputs": [],
      "source": []
    },
    {
      "cell_type": "code",
      "execution_count": 1264,
      "metadata": {},
      "outputs": [],
      "source": [
        "rf = RandomForestRegressor()\n",
        "rf.fit(X_train, y_train)\n",
        "# random forest\n",
        "blind_pred = rf.predict(X_test_blind)\n",
        "test_pred=pd.DataFrame(blind_pred,columns=[\"SalePrice\"])\n",
        "test_pred=pd.concat([id_aja,test_pred],axis=1)\n",
        "test_pred.to_csv('random_forest2.csv', index=False)"
      ]
    },
    {
      "cell_type": "code",
      "execution_count": 1265,
      "metadata": {},
      "outputs": [
        {
          "data": {
            "text/html": [
              "<div>\n",
              "<style scoped>\n",
              "    .dataframe tbody tr th:only-of-type {\n",
              "        vertical-align: middle;\n",
              "    }\n",
              "\n",
              "    .dataframe tbody tr th {\n",
              "        vertical-align: top;\n",
              "    }\n",
              "\n",
              "    .dataframe thead th {\n",
              "        text-align: right;\n",
              "    }\n",
              "</style>\n",
              "<table border=\"1\" class=\"dataframe\">\n",
              "  <thead>\n",
              "    <tr style=\"text-align: right;\">\n",
              "      <th></th>\n",
              "      <th>Id</th>\n",
              "      <th>SalePrice</th>\n",
              "    </tr>\n",
              "  </thead>\n",
              "  <tbody>\n",
              "    <tr>\n",
              "      <th>0</th>\n",
              "      <td>1461</td>\n",
              "      <td>104147.50</td>\n",
              "    </tr>\n",
              "    <tr>\n",
              "      <th>1</th>\n",
              "      <td>1462</td>\n",
              "      <td>153272.95</td>\n",
              "    </tr>\n",
              "    <tr>\n",
              "      <th>2</th>\n",
              "      <td>1463</td>\n",
              "      <td>200239.90</td>\n",
              "    </tr>\n",
              "    <tr>\n",
              "      <th>3</th>\n",
              "      <td>1464</td>\n",
              "      <td>180161.66</td>\n",
              "    </tr>\n",
              "    <tr>\n",
              "      <th>4</th>\n",
              "      <td>1465</td>\n",
              "      <td>161954.28</td>\n",
              "    </tr>\n",
              "    <tr>\n",
              "      <th>...</th>\n",
              "      <td>...</td>\n",
              "      <td>...</td>\n",
              "    </tr>\n",
              "    <tr>\n",
              "      <th>1454</th>\n",
              "      <td>2915</td>\n",
              "      <td>85472.50</td>\n",
              "    </tr>\n",
              "    <tr>\n",
              "      <th>1455</th>\n",
              "      <td>2916</td>\n",
              "      <td>91150.00</td>\n",
              "    </tr>\n",
              "    <tr>\n",
              "      <th>1456</th>\n",
              "      <td>2917</td>\n",
              "      <td>166147.90</td>\n",
              "    </tr>\n",
              "    <tr>\n",
              "      <th>1457</th>\n",
              "      <td>2918</td>\n",
              "      <td>104326.50</td>\n",
              "    </tr>\n",
              "    <tr>\n",
              "      <th>1458</th>\n",
              "      <td>2919</td>\n",
              "      <td>197693.00</td>\n",
              "    </tr>\n",
              "  </tbody>\n",
              "</table>\n",
              "<p>1459 rows × 2 columns</p>\n",
              "</div>"
            ],
            "text/plain": [
              "        Id  SalePrice\n",
              "0     1461  104147.50\n",
              "1     1462  153272.95\n",
              "2     1463  200239.90\n",
              "3     1464  180161.66\n",
              "4     1465  161954.28\n",
              "...    ...        ...\n",
              "1454  2915   85472.50\n",
              "1455  2916   91150.00\n",
              "1456  2917  166147.90\n",
              "1457  2918  104326.50\n",
              "1458  2919  197693.00\n",
              "\n",
              "[1459 rows x 2 columns]"
            ]
          },
          "execution_count": 1265,
          "metadata": {},
          "output_type": "execute_result"
        }
      ],
      "source": [
        "test_pred"
      ]
    },
    {
      "cell_type": "code",
      "execution_count": 1266,
      "metadata": {},
      "outputs": [],
      "source": [
        "# random_forest_tuning\n",
        "tuning= bestmodel.predict(X_test_blind)\n",
        "into_data_frame_random_forest=pd.DataFrame(tuning,columns=[\"SalePrice\"])\n",
        "tuning_random=pd.concat([id_aja,into_data_frame_random_forest],axis=1)\n",
        "\n",
        "tuning_random.to_csv('tuning_random_forest2.csv', index=False)"
      ]
    },
    {
      "cell_type": "code",
      "execution_count": 1268,
      "metadata": {},
      "outputs": [
        {
          "data": {
            "text/html": [
              "<div>\n",
              "<style scoped>\n",
              "    .dataframe tbody tr th:only-of-type {\n",
              "        vertical-align: middle;\n",
              "    }\n",
              "\n",
              "    .dataframe tbody tr th {\n",
              "        vertical-align: top;\n",
              "    }\n",
              "\n",
              "    .dataframe thead th {\n",
              "        text-align: right;\n",
              "    }\n",
              "</style>\n",
              "<table border=\"1\" class=\"dataframe\">\n",
              "  <thead>\n",
              "    <tr style=\"text-align: right;\">\n",
              "      <th></th>\n",
              "      <th>Id</th>\n",
              "      <th>SalePrice</th>\n",
              "    </tr>\n",
              "  </thead>\n",
              "  <tbody>\n",
              "    <tr>\n",
              "      <th>0</th>\n",
              "      <td>1461</td>\n",
              "      <td>134402.322001</td>\n",
              "    </tr>\n",
              "    <tr>\n",
              "      <th>1</th>\n",
              "      <td>1462</td>\n",
              "      <td>152834.734635</td>\n",
              "    </tr>\n",
              "    <tr>\n",
              "      <th>2</th>\n",
              "      <td>1463</td>\n",
              "      <td>204281.964079</td>\n",
              "    </tr>\n",
              "    <tr>\n",
              "      <th>3</th>\n",
              "      <td>1464</td>\n",
              "      <td>197049.410965</td>\n",
              "    </tr>\n",
              "    <tr>\n",
              "      <th>4</th>\n",
              "      <td>1465</td>\n",
              "      <td>180786.705951</td>\n",
              "    </tr>\n",
              "    <tr>\n",
              "      <th>...</th>\n",
              "      <td>...</td>\n",
              "      <td>...</td>\n",
              "    </tr>\n",
              "    <tr>\n",
              "      <th>1454</th>\n",
              "      <td>2915</td>\n",
              "      <td>118579.268305</td>\n",
              "    </tr>\n",
              "    <tr>\n",
              "      <th>1455</th>\n",
              "      <td>2916</td>\n",
              "      <td>118071.717544</td>\n",
              "    </tr>\n",
              "    <tr>\n",
              "      <th>1456</th>\n",
              "      <td>2917</td>\n",
              "      <td>184829.510144</td>\n",
              "    </tr>\n",
              "    <tr>\n",
              "      <th>1457</th>\n",
              "      <td>2918</td>\n",
              "      <td>155607.101465</td>\n",
              "    </tr>\n",
              "    <tr>\n",
              "      <th>1458</th>\n",
              "      <td>2919</td>\n",
              "      <td>247047.898307</td>\n",
              "    </tr>\n",
              "  </tbody>\n",
              "</table>\n",
              "<p>1459 rows × 2 columns</p>\n",
              "</div>"
            ],
            "text/plain": [
              "        Id      SalePrice\n",
              "0     1461  134402.322001\n",
              "1     1462  152834.734635\n",
              "2     1463  204281.964079\n",
              "3     1464  197049.410965\n",
              "4     1465  180786.705951\n",
              "...    ...            ...\n",
              "1454  2915  118579.268305\n",
              "1455  2916  118071.717544\n",
              "1456  2917  184829.510144\n",
              "1457  2918  155607.101465\n",
              "1458  2919  247047.898307\n",
              "\n",
              "[1459 rows x 2 columns]"
            ]
          },
          "execution_count": 1268,
          "metadata": {},
          "output_type": "execute_result"
        }
      ],
      "source": [
        "tuning_random"
      ]
    },
    {
      "cell_type": "code",
      "execution_count": 1267,
      "metadata": {
        "colab": {
          "base_uri": "https://localhost:8080/"
        },
        "id": "-zvvxyk6uF_W",
        "outputId": "48dff940-10e0-491e-c171-b161cf8ca7e6"
      },
      "outputs": [],
      "source": [
        "\n",
        "xg_boost_1=modelxg.predict(X_test_blind)\n",
        "\n",
        "xg_boost_2=pd.DataFrame(xg_boost_1,columns=[\"SalePrice\"])\n",
        "xg_boost_3=pd.concat([id_aja,xg_boost_2],axis=1)\n",
        "xg_boost_3.to_csv('xgboost_1.csv', index=False)"
      ]
    },
    {
      "cell_type": "code",
      "execution_count": null,
      "metadata": {},
      "outputs": [],
      "source": []
    }
  ],
  "metadata": {
    "colab": {
      "provenance": []
    },
    "kernelspec": {
      "display_name": "Python 3",
      "name": "python3"
    },
    "language_info": {
      "codemirror_mode": {
        "name": "ipython",
        "version": 3
      },
      "file_extension": ".py",
      "mimetype": "text/x-python",
      "name": "python",
      "nbconvert_exporter": "python",
      "pygments_lexer": "ipython3",
      "version": "3.9.7"
    }
  },
  "nbformat": 4,
  "nbformat_minor": 0
}
